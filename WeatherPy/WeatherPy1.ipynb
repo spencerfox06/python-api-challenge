{
 "cells": [
  {
   "cell_type": "markdown",
   "metadata": {},
   "source": [
    "# WeatherPy\n",
    "----\n",
    "\n",
    "#### Note\n",
    "* Instructions have been included for each segment. You do not have to follow them exactly, but they are included to help you think through the steps."
   ]
  },
  {
   "cell_type": "code",
   "execution_count": 1,
   "metadata": {
    "scrolled": true
   },
   "outputs": [],
   "source": [
    "# Dependencies and Setup\n",
    "import matplotlib.pyplot as plt\n",
    "import pandas as pd\n",
    "import numpy as np\n",
    "import requests\n",
    "import time\n",
    "from scipy.stats import linregress\n",
    "\n",
    "# Import API key\n",
    "from api_keys import weather_api_key\n"
   ]
  },
  {
   "cell_type": "markdown",
   "metadata": {},
   "source": [
    "## Generate Cities List"
   ]
  },
  {
   "cell_type": "markdown",
   "metadata": {},
   "source": [
    "### Perform API Calls\n",
    "* Perform a weather check on each city using a series of successive API calls.\n",
    "* Include a print log of each city as it'sbeing processed (with the city number and city name).\n"
   ]
  },
  {
   "cell_type": "code",
   "execution_count": 2,
   "metadata": {
    "scrolled": true
   },
   "outputs": [
    {
     "data": {
      "text/plain": [
       "'http://api.openweathermap.org/data/2.5/weather?appid=881c48bb3c786fb2779830ed2f5a9796&units=metric&q='"
      ]
     },
     "execution_count": 2,
     "metadata": {},
     "output_type": "execute_result"
    }
   ],
   "source": [
    "# Save config information.\n",
    "url = \"http://api.openweathermap.org/data/2.5/weather?\"\n",
    "units = \"metric\"\n",
    "\n",
    "# Build partial query URL\n",
    "query_url = f\"{url}appid={weather_api_key}&units={units}&q=\"\n",
    "query_url"
   ]
  },
  {
   "cell_type": "code",
   "execution_count": 3,
   "metadata": {},
   "outputs": [
    {
     "name": "stdout",
     "output_type": "stream",
     "text": [
      "The measurement information received is: ['MX', 'EG', 'NL', 'GR', 'NZ', 'IQ', 'TH', 'ES', 'CN', 'DE', 'CO', 'BR', 'AR', 'EG', 'ZA', 'NZ', 'DE', 'SY', 'IN', 'AE', 'GB', 'CU', 'FI', 'US', 'TR', 'ID', 'ZA', 'UG', 'NG', 'PE', 'PT', 'GB', 'US', 'ES', 'PH', 'US', 'IT', 'RU', 'IN', 'KE', 'US', 'NO', 'PA', 'PF', 'FR', 'AU', 'CZ', 'KP', 'IS', 'BR', 'AR', 'CL', 'BR', 'CN', 'SG', 'AU', 'CA', 'CA', 'PL', 'TZ']\n"
     ]
    }
   ],
   "source": [
    "cities = [\"Acapulco\", \"Alexandria\", \"Amsterdam\", \"Athens\", \"Auckland\", \"Baghdad\", \"Bangkok\", \"Barcelona\", \"Beijing\", \"Berlin\", \"Bogota\", \"Brasilia\", \"Buenos Aires\", \"Cairo\", \"Cape Town\", \"Christchurch\", \"Cologne\", \"Damascus\", \"Delhi\", \"Dubai\", \"Edinburgh\", \"Havana\", \"Helsinki\", \"Honolulu\", \"Istanbul\", \"Jakarta\", \"Johannesburg\", \"Kampala\", \"Lagos\", \"Lima\", \"Lisbon\", \"London\", \"Los Angeles\", \"Madrid\", \"Manila\", \"Melbourne\", \"Milan\", \"Moscow\", \"Mumbai\", \"Nairobi\", \"New York\", \"Oslo\", \"Panama City\", \"Papeete\", \"Paris\", \"Perth\", \"Prague\", \"Pyongyang\", \"Reykjavik\", \"Rio De Janeiro\", \"San Juan\", \"Santiago\", \"Sao Paulo\", \"Shanghai\", \"Singapore\", \"Sydney\", \"Toronto\", \"Vancouver\", \"Warsaw\", \"Zanzibar\"]\n",
    "\n",
    "# set up lists to hold reponse info\n",
    "lat = []\n",
    "lon = []\n",
    "temp = []\n",
    "tempmax = []\n",
    "humid = []\n",
    "clouds = []\n",
    "wind = []\n",
    "country = []\n",
    "date = []\n",
    "\n",
    "# Loop through the list of cities and perform a request for data on each\n",
    "for city in cities:\n",
    "    response = requests.get(query_url + city).json()\n",
    "    lat.append(response['coord']['lat'])\n",
    "    lon.append(response['coord']['lon'])\n",
    "    temp.append(response['main']['temp'])\n",
    "    tempmax.append(response['main']['temp_max'])\n",
    "    humid.append(response['main']['humidity'])\n",
    "    clouds.append(response['clouds']['all'])\n",
    "    wind.append(response['wind']['speed'])\n",
    "    country.append(response['sys']['country'])\n",
    "    date.append(response['dt'])\n",
    "\n",
    "print(f\"The measurement information received is: {country}\")"
   ]
  },
  {
   "cell_type": "markdown",
   "metadata": {},
   "source": [
    "### Convert Raw Data to DataFrame\n",
    "* Export the city data into a .csv.\n",
    "* Display the DataFrame"
   ]
  },
  {
   "cell_type": "code",
   "execution_count": 6,
   "metadata": {
    "scrolled": true
   },
   "outputs": [
    {
     "data": {
      "text/html": [
       "<div>\n",
       "<style scoped>\n",
       "    .dataframe tbody tr th:only-of-type {\n",
       "        vertical-align: middle;\n",
       "    }\n",
       "\n",
       "    .dataframe tbody tr th {\n",
       "        vertical-align: top;\n",
       "    }\n",
       "\n",
       "    .dataframe thead th {\n",
       "        text-align: right;\n",
       "    }\n",
       "</style>\n",
       "<table border=\"1\" class=\"dataframe\">\n",
       "  <thead>\n",
       "    <tr style=\"text-align: right;\">\n",
       "      <th></th>\n",
       "      <th>City</th>\n",
       "      <th>Lat</th>\n",
       "      <th>Lng</th>\n",
       "      <th>Max Temperature</th>\n",
       "      <th>Humidity</th>\n",
       "      <th>Cloudiness</th>\n",
       "      <th>Wind Speed</th>\n",
       "      <th>Country</th>\n",
       "      <th>Date</th>\n",
       "    </tr>\n",
       "  </thead>\n",
       "  <tbody>\n",
       "    <tr>\n",
       "      <th>0</th>\n",
       "      <td>Acapulco</td>\n",
       "      <td>16.8634</td>\n",
       "      <td>-99.8901</td>\n",
       "      <td>31.00</td>\n",
       "      <td>51</td>\n",
       "      <td>20</td>\n",
       "      <td>3.60</td>\n",
       "      <td>MX</td>\n",
       "      <td>1619294472</td>\n",
       "    </tr>\n",
       "    <tr>\n",
       "      <th>1</th>\n",
       "      <td>Alexandria</td>\n",
       "      <td>31.2156</td>\n",
       "      <td>29.9553</td>\n",
       "      <td>19.00</td>\n",
       "      <td>63</td>\n",
       "      <td>0</td>\n",
       "      <td>2.06</td>\n",
       "      <td>EG</td>\n",
       "      <td>1619294473</td>\n",
       "    </tr>\n",
       "    <tr>\n",
       "      <th>2</th>\n",
       "      <td>Amsterdam</td>\n",
       "      <td>52.3740</td>\n",
       "      <td>4.8897</td>\n",
       "      <td>7.82</td>\n",
       "      <td>61</td>\n",
       "      <td>0</td>\n",
       "      <td>5.14</td>\n",
       "      <td>NL</td>\n",
       "      <td>1619294001</td>\n",
       "    </tr>\n",
       "    <tr>\n",
       "      <th>3</th>\n",
       "      <td>Athens</td>\n",
       "      <td>37.9795</td>\n",
       "      <td>23.7162</td>\n",
       "      <td>13.69</td>\n",
       "      <td>77</td>\n",
       "      <td>75</td>\n",
       "      <td>3.09</td>\n",
       "      <td>GR</td>\n",
       "      <td>1619294464</td>\n",
       "    </tr>\n",
       "    <tr>\n",
       "      <th>4</th>\n",
       "      <td>Auckland</td>\n",
       "      <td>-36.8667</td>\n",
       "      <td>174.7667</td>\n",
       "      <td>13.91</td>\n",
       "      <td>77</td>\n",
       "      <td>75</td>\n",
       "      <td>7.72</td>\n",
       "      <td>NZ</td>\n",
       "      <td>1619294329</td>\n",
       "    </tr>\n",
       "  </tbody>\n",
       "</table>\n",
       "</div>"
      ],
      "text/plain": [
       "         City      Lat       Lng  Max Temperature  Humidity  Cloudiness  \\\n",
       "0    Acapulco  16.8634  -99.8901            31.00        51          20   \n",
       "1  Alexandria  31.2156   29.9553            19.00        63           0   \n",
       "2   Amsterdam  52.3740    4.8897             7.82        61           0   \n",
       "3      Athens  37.9795   23.7162            13.69        77          75   \n",
       "4    Auckland -36.8667  174.7667            13.91        77          75   \n",
       "\n",
       "   Wind Speed Country        Date  \n",
       "0        3.60      MX  1619294472  \n",
       "1        2.06      EG  1619294473  \n",
       "2        5.14      NL  1619294001  \n",
       "3        3.09      GR  1619294464  \n",
       "4        7.72      NZ  1619294329  "
      ]
     },
     "execution_count": 6,
     "metadata": {},
     "output_type": "execute_result"
    }
   ],
   "source": [
    "# create a data frame from cities, lat, and temp\n",
    "weather_dict = {\n",
    "    \"City\": cities,\n",
    "    \"Lat\": lat,\n",
    "    \"Lng\": lon,\n",
    "    \"Max Temperature\": temp,\n",
    "    \"Humidity\": humid,\n",
    "    \"Cloudiness\": clouds,\n",
    "    \"Wind Speed\": wind,\n",
    "    \"Country\": country,\n",
    "    \"Date\": date,\n",
    "}\n",
    "weather_data = pd.DataFrame(weather_dict)\n",
    "weather_data.head()\n"
   ]
  },
  {
   "cell_type": "code",
   "execution_count": 7,
   "metadata": {},
   "outputs": [],
   "source": [
    "#Write to csv file\n",
    "weather_data.to_csv(r'..\\Resources\\weather_data.csv', index = False)"
   ]
  },
  {
   "cell_type": "code",
   "execution_count": 8,
   "metadata": {},
   "outputs": [
    {
     "data": {
      "text/html": [
       "<div>\n",
       "<style scoped>\n",
       "    .dataframe tbody tr th:only-of-type {\n",
       "        vertical-align: middle;\n",
       "    }\n",
       "\n",
       "    .dataframe tbody tr th {\n",
       "        vertical-align: top;\n",
       "    }\n",
       "\n",
       "    .dataframe thead th {\n",
       "        text-align: right;\n",
       "    }\n",
       "</style>\n",
       "<table border=\"1\" class=\"dataframe\">\n",
       "  <thead>\n",
       "    <tr style=\"text-align: right;\">\n",
       "      <th></th>\n",
       "      <th>index</th>\n",
       "      <th>City</th>\n",
       "      <th>Lat</th>\n",
       "      <th>Lng</th>\n",
       "      <th>Max Temperature</th>\n",
       "      <th>Humidity</th>\n",
       "      <th>Cloudiness</th>\n",
       "      <th>Wind Speed</th>\n",
       "      <th>Country</th>\n",
       "      <th>Date</th>\n",
       "    </tr>\n",
       "  </thead>\n",
       "  <tbody>\n",
       "    <tr>\n",
       "      <th>0</th>\n",
       "      <td>count</td>\n",
       "      <td>60</td>\n",
       "      <td>60.000000</td>\n",
       "      <td>60.000000</td>\n",
       "      <td>60.000000</td>\n",
       "      <td>60.000000</td>\n",
       "      <td>60.000000</td>\n",
       "      <td>60.000000</td>\n",
       "      <td>60</td>\n",
       "      <td>6.000000e+01</td>\n",
       "    </tr>\n",
       "    <tr>\n",
       "      <th>1</th>\n",
       "      <td>min</td>\n",
       "      <td>Acapulco</td>\n",
       "      <td>-43.533300</td>\n",
       "      <td>-157.858300</td>\n",
       "      <td>2.190000</td>\n",
       "      <td>14.000000</td>\n",
       "      <td>0.000000</td>\n",
       "      <td>0.510000</td>\n",
       "      <td>AE</td>\n",
       "      <td>1.619294e+09</td>\n",
       "    </tr>\n",
       "    <tr>\n",
       "      <th>2</th>\n",
       "      <td>max</td>\n",
       "      <td>Zanzibar</td>\n",
       "      <td>64.135500</td>\n",
       "      <td>174.766700</td>\n",
       "      <td>31.830000</td>\n",
       "      <td>100.000000</td>\n",
       "      <td>100.000000</td>\n",
       "      <td>8.230000</td>\n",
       "      <td>ZA</td>\n",
       "      <td>1.619294e+09</td>\n",
       "    </tr>\n",
       "    <tr>\n",
       "      <th>3</th>\n",
       "      <td>mean</td>\n",
       "      <td>NaN</td>\n",
       "      <td>18.441850</td>\n",
       "      <td>9.126523</td>\n",
       "      <td>18.291667</td>\n",
       "      <td>63.916667</td>\n",
       "      <td>33.250000</td>\n",
       "      <td>3.363333</td>\n",
       "      <td>NaN</td>\n",
       "      <td>1.619294e+09</td>\n",
       "    </tr>\n",
       "    <tr>\n",
       "      <th>4</th>\n",
       "      <td>std</td>\n",
       "      <td>NaN</td>\n",
       "      <td>31.295799</td>\n",
       "      <td>78.228471</td>\n",
       "      <td>8.157226</td>\n",
       "      <td>22.429015</td>\n",
       "      <td>34.409609</td>\n",
       "      <td>1.914687</td>\n",
       "      <td>NaN</td>\n",
       "      <td>1.502765e+02</td>\n",
       "    </tr>\n",
       "  </tbody>\n",
       "</table>\n",
       "</div>"
      ],
      "text/plain": [
       "   index      City        Lat         Lng  Max Temperature    Humidity  \\\n",
       "0  count        60  60.000000   60.000000        60.000000   60.000000   \n",
       "1    min  Acapulco -43.533300 -157.858300         2.190000   14.000000   \n",
       "2    max  Zanzibar  64.135500  174.766700        31.830000  100.000000   \n",
       "3   mean       NaN  18.441850    9.126523        18.291667   63.916667   \n",
       "4    std       NaN  31.295799   78.228471         8.157226   22.429015   \n",
       "\n",
       "   Cloudiness  Wind Speed Country          Date  \n",
       "0   60.000000   60.000000      60  6.000000e+01  \n",
       "1    0.000000    0.510000      AE  1.619294e+09  \n",
       "2  100.000000    8.230000      ZA  1.619294e+09  \n",
       "3   33.250000    3.363333     NaN  1.619294e+09  \n",
       "4   34.409609    1.914687     NaN  1.502765e+02  "
      ]
     },
     "execution_count": 8,
     "metadata": {},
     "output_type": "execute_result"
    }
   ],
   "source": [
    "weather_data.agg(['count', 'mean', 'std', 'min', 'max']).reset_index()"
   ]
  },
  {
   "cell_type": "markdown",
   "metadata": {},
   "source": [
    "## Plotting the Data\n",
    "* Use proper labeling of the plots using plot titles (including date of analysis) and axes labels.\n",
    "* Save the plotted figures as .pngs."
   ]
  },
  {
   "cell_type": "markdown",
   "metadata": {},
   "source": [
    "## Latitude vs. Temperature Plot"
   ]
  },
  {
   "cell_type": "code",
   "execution_count": 9,
   "metadata": {},
   "outputs": [
    {
     "data": {
      "image/png": "[encoded data removed]",
      "text/plain": [
       "<Figure size 432x288 with 1 Axes>"
      ]
     },
     "metadata": {
      "needs_background": "light"
     },
     "output_type": "display_data"
    }
   ],
   "source": [
    "# Build a scatter plot for each data type\n",
    "plt.scatter(weather_data[\"Lat\"], weather_data[\"Max Temperature\"], marker=\"o\")\n",
    "\n",
    "# Incorporate the other graph properties\n",
    "plt.title(\"City Latitude vs Max Temperature 04/24/2021\")\n",
    "plt.ylabel(\"Max Temperature (Celsius)\")\n",
    "plt.xlabel(\"Latitude\")\n",
    "plt.grid(True)\n",
    "\n",
    "# Save the figure\n",
    "plt.savefig(\"Temp_vs_Lat.png\")\n",
    "\n",
    "# Show plot\n",
    "plt.show()"
   ]
  },
  {
   "cell_type": "code",
   "execution_count": 10,
   "metadata": {},
   "outputs": [],
   "source": [
    "#Analysis - Max Temperature rises closer to Equator"
   ]
  },
  {
   "cell_type": "markdown",
   "metadata": {},
   "source": [
    "## Latitude vs. Humidity Plot"
   ]
  },
  {
   "cell_type": "code",
   "execution_count": 11,
   "metadata": {
    "scrolled": true
   },
   "outputs": [
    {
     "data": {
      "image/png": "[encoded data removed]",
      "text/plain": [
       "<Figure size 432x288 with 1 Axes>"
      ]
     },
     "metadata": {
      "needs_background": "light"
     },
     "output_type": "display_data"
    }
   ],
   "source": [
    "# Build a scatter plot for each data type\n",
    "plt.scatter(weather_data[\"Lat\"], weather_data[\"Humidity\"], marker=\"o\")\n",
    "\n",
    "# Incorporate the other graph properties\n",
    "plt.title(\"City Latitude vs Humidity 04/24/2021\")\n",
    "plt.ylabel(\"Humidity %\")\n",
    "plt.xlabel(\"Latitude\")\n",
    "plt.grid(True)\n",
    "\n",
    "# Save the figure\n",
    "plt.savefig(\"Temp_vs_Humid.png\")\n",
    "\n",
    "# Show plot\n",
    "plt.show()"
   ]
  },
  {
   "cell_type": "code",
   "execution_count": 12,
   "metadata": {},
   "outputs": [],
   "source": [
    "#Analysis - Less of a trend for Humidity compared to Temperature vs Latitude"
   ]
  },
  {
   "cell_type": "markdown",
   "metadata": {},
   "source": [
    "## Latitude vs. Cloudiness Plot"
   ]
  },
  {
   "cell_type": "code",
   "execution_count": 13,
   "metadata": {
    "scrolled": true
   },
   "outputs": [
    {
     "data": {
      "image/png": "[encoded data removed]",
      "text/plain": [
       "<Figure size 432x288 with 1 Axes>"
      ]
     },
     "metadata": {
      "needs_background": "light"
     },
     "output_type": "display_data"
    }
   ],
   "source": [
    "# Build a scatter plot for each data type\n",
    "plt.scatter(weather_data[\"Lat\"], weather_data[\"Cloudiness\"], marker=\"o\")\n",
    "\n",
    "# Incorporate the other graph properties\n",
    "plt.title(\"City Latitude vs Cloudiness 04/24/2021\")\n",
    "plt.ylabel(\"Cloudiness %\")\n",
    "plt.xlabel(\"Latitude\")\n",
    "plt.grid(True)\n",
    "\n",
    "# Save the figure\n",
    "plt.savefig(\"Temp_vs_Cloud.png\")\n",
    "\n",
    "# Show plot\n",
    "plt.show()"
   ]
  },
  {
   "cell_type": "code",
   "execution_count": 14,
   "metadata": {},
   "outputs": [],
   "source": [
    "#Analysis - Less of a trend for Cloudiness compared to Temperature vs Latitude"
   ]
  },
  {
   "cell_type": "markdown",
   "metadata": {},
   "source": [
    "## Latitude vs. Wind Speed Plot"
   ]
  },
  {
   "cell_type": "code",
   "execution_count": 15,
   "metadata": {},
   "outputs": [
    {
     "data": {
      "image/png": "[encoded data removed]",
      "text/plain": [
       "<Figure size 432x288 with 1 Axes>"
      ]
     },
     "metadata": {
      "needs_background": "light"
     },
     "output_type": "display_data"
    }
   ],
   "source": [
    "# Build a scatter plot for each data type\n",
    "plt.scatter(weather_data[\"Lat\"], weather_data[\"Wind Speed\"], marker=\"o\")\n",
    "\n",
    "# Incorporate the other graph properties\n",
    "plt.title(\"City Latitude vs Wind Speed 04/24/2021\")\n",
    "plt.ylabel(\"Wind Speed (mph)\")\n",
    "plt.xlabel(\"Latitude\")\n",
    "plt.grid(True)\n",
    "\n",
    "# Save the figure\n",
    "plt.savefig(\"Temp_vs_Wind.png\")\n",
    "\n",
    "# Show plot\n",
    "plt.show()"
   ]
  },
  {
   "cell_type": "code",
   "execution_count": 16,
   "metadata": {},
   "outputs": [],
   "source": [
    "#Analysis - Less of a trend for Wind Speed compared to Temperature vs Latitude"
   ]
  },
  {
   "cell_type": "markdown",
   "metadata": {},
   "source": [
    "## Linear Regression"
   ]
  },
  {
   "cell_type": "code",
   "execution_count": 17,
   "metadata": {},
   "outputs": [
    {
     "data": {
      "text/html": [
       "<div>\n",
       "<style scoped>\n",
       "    .dataframe tbody tr th:only-of-type {\n",
       "        vertical-align: middle;\n",
       "    }\n",
       "\n",
       "    .dataframe tbody tr th {\n",
       "        vertical-align: top;\n",
       "    }\n",
       "\n",
       "    .dataframe thead th {\n",
       "        text-align: right;\n",
       "    }\n",
       "</style>\n",
       "<table border=\"1\" class=\"dataframe\">\n",
       "  <thead>\n",
       "    <tr style=\"text-align: right;\">\n",
       "      <th></th>\n",
       "      <th>City</th>\n",
       "      <th>Lat</th>\n",
       "      <th>Lng</th>\n",
       "      <th>Max Temperature</th>\n",
       "      <th>Humidity</th>\n",
       "      <th>Cloudiness</th>\n",
       "      <th>Wind Speed</th>\n",
       "      <th>Country</th>\n",
       "      <th>Date</th>\n",
       "    </tr>\n",
       "  </thead>\n",
       "  <tbody>\n",
       "    <tr>\n",
       "      <th>0</th>\n",
       "      <td>Acapulco</td>\n",
       "      <td>16.8634</td>\n",
       "      <td>-99.8901</td>\n",
       "      <td>31.00</td>\n",
       "      <td>51</td>\n",
       "      <td>20</td>\n",
       "      <td>3.60</td>\n",
       "      <td>MX</td>\n",
       "      <td>1619294472</td>\n",
       "    </tr>\n",
       "    <tr>\n",
       "      <th>1</th>\n",
       "      <td>Alexandria</td>\n",
       "      <td>31.2156</td>\n",
       "      <td>29.9553</td>\n",
       "      <td>19.00</td>\n",
       "      <td>63</td>\n",
       "      <td>0</td>\n",
       "      <td>2.06</td>\n",
       "      <td>EG</td>\n",
       "      <td>1619294473</td>\n",
       "    </tr>\n",
       "    <tr>\n",
       "      <th>2</th>\n",
       "      <td>Amsterdam</td>\n",
       "      <td>52.3740</td>\n",
       "      <td>4.8897</td>\n",
       "      <td>7.82</td>\n",
       "      <td>61</td>\n",
       "      <td>0</td>\n",
       "      <td>5.14</td>\n",
       "      <td>NL</td>\n",
       "      <td>1619294001</td>\n",
       "    </tr>\n",
       "    <tr>\n",
       "      <th>3</th>\n",
       "      <td>Athens</td>\n",
       "      <td>37.9795</td>\n",
       "      <td>23.7162</td>\n",
       "      <td>13.69</td>\n",
       "      <td>77</td>\n",
       "      <td>75</td>\n",
       "      <td>3.09</td>\n",
       "      <td>GR</td>\n",
       "      <td>1619294464</td>\n",
       "    </tr>\n",
       "    <tr>\n",
       "      <th>5</th>\n",
       "      <td>Baghdad</td>\n",
       "      <td>33.3406</td>\n",
       "      <td>44.4009</td>\n",
       "      <td>25.00</td>\n",
       "      <td>25</td>\n",
       "      <td>0</td>\n",
       "      <td>1.03</td>\n",
       "      <td>IQ</td>\n",
       "      <td>1619294407</td>\n",
       "    </tr>\n",
       "    <tr>\n",
       "      <th>6</th>\n",
       "      <td>Bangkok</td>\n",
       "      <td>13.7500</td>\n",
       "      <td>100.5167</td>\n",
       "      <td>29.74</td>\n",
       "      <td>79</td>\n",
       "      <td>20</td>\n",
       "      <td>2.06</td>\n",
       "      <td>TH</td>\n",
       "      <td>1619294017</td>\n",
       "    </tr>\n",
       "    <tr>\n",
       "      <th>7</th>\n",
       "      <td>Barcelona</td>\n",
       "      <td>41.3888</td>\n",
       "      <td>2.1590</td>\n",
       "      <td>14.91</td>\n",
       "      <td>82</td>\n",
       "      <td>20</td>\n",
       "      <td>0.51</td>\n",
       "      <td>ES</td>\n",
       "      <td>1619294292</td>\n",
       "    </tr>\n",
       "    <tr>\n",
       "      <th>8</th>\n",
       "      <td>Beijing</td>\n",
       "      <td>39.9075</td>\n",
       "      <td>116.3972</td>\n",
       "      <td>14.80</td>\n",
       "      <td>77</td>\n",
       "      <td>0</td>\n",
       "      <td>1.00</td>\n",
       "      <td>CN</td>\n",
       "      <td>1619294304</td>\n",
       "    </tr>\n",
       "    <tr>\n",
       "      <th>9</th>\n",
       "      <td>Berlin</td>\n",
       "      <td>52.5244</td>\n",
       "      <td>13.4105</td>\n",
       "      <td>8.59</td>\n",
       "      <td>49</td>\n",
       "      <td>0</td>\n",
       "      <td>2.06</td>\n",
       "      <td>DE</td>\n",
       "      <td>1619294189</td>\n",
       "    </tr>\n",
       "    <tr>\n",
       "      <th>10</th>\n",
       "      <td>Bogota</td>\n",
       "      <td>4.6097</td>\n",
       "      <td>-74.0817</td>\n",
       "      <td>21.00</td>\n",
       "      <td>49</td>\n",
       "      <td>40</td>\n",
       "      <td>5.14</td>\n",
       "      <td>CO</td>\n",
       "      <td>1619294367</td>\n",
       "    </tr>\n",
       "    <tr>\n",
       "      <th>13</th>\n",
       "      <td>Cairo</td>\n",
       "      <td>30.0626</td>\n",
       "      <td>31.2497</td>\n",
       "      <td>21.86</td>\n",
       "      <td>40</td>\n",
       "      <td>0</td>\n",
       "      <td>4.12</td>\n",
       "      <td>EG</td>\n",
       "      <td>1619294474</td>\n",
       "    </tr>\n",
       "    <tr>\n",
       "      <th>16</th>\n",
       "      <td>Cologne</td>\n",
       "      <td>50.9333</td>\n",
       "      <td>6.9500</td>\n",
       "      <td>9.80</td>\n",
       "      <td>50</td>\n",
       "      <td>0</td>\n",
       "      <td>2.06</td>\n",
       "      <td>DE</td>\n",
       "      <td>1619294440</td>\n",
       "    </tr>\n",
       "    <tr>\n",
       "      <th>17</th>\n",
       "      <td>Damascus</td>\n",
       "      <td>33.5102</td>\n",
       "      <td>36.2913</td>\n",
       "      <td>26.00</td>\n",
       "      <td>14</td>\n",
       "      <td>20</td>\n",
       "      <td>4.12</td>\n",
       "      <td>SY</td>\n",
       "      <td>1619294475</td>\n",
       "    </tr>\n",
       "    <tr>\n",
       "      <th>18</th>\n",
       "      <td>Delhi</td>\n",
       "      <td>28.6667</td>\n",
       "      <td>77.2167</td>\n",
       "      <td>25.00</td>\n",
       "      <td>31</td>\n",
       "      <td>0</td>\n",
       "      <td>1.54</td>\n",
       "      <td>IN</td>\n",
       "      <td>1619294448</td>\n",
       "    </tr>\n",
       "    <tr>\n",
       "      <th>19</th>\n",
       "      <td>Dubai</td>\n",
       "      <td>25.2582</td>\n",
       "      <td>55.3047</td>\n",
       "      <td>28.37</td>\n",
       "      <td>45</td>\n",
       "      <td>0</td>\n",
       "      <td>2.06</td>\n",
       "      <td>AE</td>\n",
       "      <td>1619294337</td>\n",
       "    </tr>\n",
       "    <tr>\n",
       "      <th>20</th>\n",
       "      <td>Edinburgh</td>\n",
       "      <td>55.9521</td>\n",
       "      <td>-3.1965</td>\n",
       "      <td>7.34</td>\n",
       "      <td>81</td>\n",
       "      <td>0</td>\n",
       "      <td>4.12</td>\n",
       "      <td>GB</td>\n",
       "      <td>1619294434</td>\n",
       "    </tr>\n",
       "    <tr>\n",
       "      <th>21</th>\n",
       "      <td>Havana</td>\n",
       "      <td>23.1330</td>\n",
       "      <td>-82.3830</td>\n",
       "      <td>31.83</td>\n",
       "      <td>48</td>\n",
       "      <td>40</td>\n",
       "      <td>4.63</td>\n",
       "      <td>CU</td>\n",
       "      <td>1619294407</td>\n",
       "    </tr>\n",
       "    <tr>\n",
       "      <th>22</th>\n",
       "      <td>Helsinki</td>\n",
       "      <td>60.1695</td>\n",
       "      <td>24.9355</td>\n",
       "      <td>2.19</td>\n",
       "      <td>100</td>\n",
       "      <td>20</td>\n",
       "      <td>3.60</td>\n",
       "      <td>FI</td>\n",
       "      <td>1619294475</td>\n",
       "    </tr>\n",
       "    <tr>\n",
       "      <th>23</th>\n",
       "      <td>Honolulu</td>\n",
       "      <td>21.3069</td>\n",
       "      <td>-157.8583</td>\n",
       "      <td>25.49</td>\n",
       "      <td>50</td>\n",
       "      <td>20</td>\n",
       "      <td>6.17</td>\n",
       "      <td>US</td>\n",
       "      <td>1619294410</td>\n",
       "    </tr>\n",
       "    <tr>\n",
       "      <th>24</th>\n",
       "      <td>Istanbul</td>\n",
       "      <td>41.0351</td>\n",
       "      <td>28.9833</td>\n",
       "      <td>11.53</td>\n",
       "      <td>82</td>\n",
       "      <td>75</td>\n",
       "      <td>6.17</td>\n",
       "      <td>TR</td>\n",
       "      <td>1619294373</td>\n",
       "    </tr>\n",
       "    <tr>\n",
       "      <th>27</th>\n",
       "      <td>Kampala</td>\n",
       "      <td>0.3163</td>\n",
       "      <td>32.5822</td>\n",
       "      <td>23.00</td>\n",
       "      <td>88</td>\n",
       "      <td>20</td>\n",
       "      <td>1.59</td>\n",
       "      <td>UG</td>\n",
       "      <td>1619294367</td>\n",
       "    </tr>\n",
       "    <tr>\n",
       "      <th>28</th>\n",
       "      <td>Lagos</td>\n",
       "      <td>6.5833</td>\n",
       "      <td>3.7500</td>\n",
       "      <td>28.00</td>\n",
       "      <td>89</td>\n",
       "      <td>40</td>\n",
       "      <td>4.12</td>\n",
       "      <td>NG</td>\n",
       "      <td>1619294477</td>\n",
       "    </tr>\n",
       "    <tr>\n",
       "      <th>30</th>\n",
       "      <td>Lisbon</td>\n",
       "      <td>38.7167</td>\n",
       "      <td>-9.1333</td>\n",
       "      <td>17.34</td>\n",
       "      <td>77</td>\n",
       "      <td>20</td>\n",
       "      <td>3.09</td>\n",
       "      <td>PT</td>\n",
       "      <td>1619294287</td>\n",
       "    </tr>\n",
       "    <tr>\n",
       "      <th>31</th>\n",
       "      <td>London</td>\n",
       "      <td>51.5085</td>\n",
       "      <td>-0.1257</td>\n",
       "      <td>8.80</td>\n",
       "      <td>53</td>\n",
       "      <td>50</td>\n",
       "      <td>6.69</td>\n",
       "      <td>GB</td>\n",
       "      <td>1619294392</td>\n",
       "    </tr>\n",
       "    <tr>\n",
       "      <th>32</th>\n",
       "      <td>Los Angeles</td>\n",
       "      <td>34.0522</td>\n",
       "      <td>-118.2437</td>\n",
       "      <td>17.77</td>\n",
       "      <td>55</td>\n",
       "      <td>90</td>\n",
       "      <td>3.21</td>\n",
       "      <td>US</td>\n",
       "      <td>1619294194</td>\n",
       "    </tr>\n",
       "    <tr>\n",
       "      <th>33</th>\n",
       "      <td>Madrid</td>\n",
       "      <td>40.4165</td>\n",
       "      <td>-3.7026</td>\n",
       "      <td>12.38</td>\n",
       "      <td>94</td>\n",
       "      <td>75</td>\n",
       "      <td>2.06</td>\n",
       "      <td>ES</td>\n",
       "      <td>1619294413</td>\n",
       "    </tr>\n",
       "    <tr>\n",
       "      <th>34</th>\n",
       "      <td>Manila</td>\n",
       "      <td>14.6042</td>\n",
       "      <td>120.9822</td>\n",
       "      <td>26.69</td>\n",
       "      <td>83</td>\n",
       "      <td>20</td>\n",
       "      <td>1.19</td>\n",
       "      <td>PH</td>\n",
       "      <td>1619294170</td>\n",
       "    </tr>\n",
       "    <tr>\n",
       "      <th>35</th>\n",
       "      <td>Melbourne</td>\n",
       "      <td>28.0836</td>\n",
       "      <td>-80.6081</td>\n",
       "      <td>26.76</td>\n",
       "      <td>69</td>\n",
       "      <td>75</td>\n",
       "      <td>7.72</td>\n",
       "      <td>US</td>\n",
       "      <td>1619294347</td>\n",
       "    </tr>\n",
       "    <tr>\n",
       "      <th>36</th>\n",
       "      <td>Milan</td>\n",
       "      <td>45.4643</td>\n",
       "      <td>9.1895</td>\n",
       "      <td>14.85</td>\n",
       "      <td>55</td>\n",
       "      <td>0</td>\n",
       "      <td>1.03</td>\n",
       "      <td>IT</td>\n",
       "      <td>1619294288</td>\n",
       "    </tr>\n",
       "    <tr>\n",
       "      <th>37</th>\n",
       "      <td>Moscow</td>\n",
       "      <td>55.7522</td>\n",
       "      <td>37.6156</td>\n",
       "      <td>3.64</td>\n",
       "      <td>87</td>\n",
       "      <td>90</td>\n",
       "      <td>7.00</td>\n",
       "      <td>RU</td>\n",
       "      <td>1619294478</td>\n",
       "    </tr>\n",
       "    <tr>\n",
       "      <th>38</th>\n",
       "      <td>Mumbai</td>\n",
       "      <td>19.0144</td>\n",
       "      <td>72.8479</td>\n",
       "      <td>29.00</td>\n",
       "      <td>79</td>\n",
       "      <td>40</td>\n",
       "      <td>2.57</td>\n",
       "      <td>IN</td>\n",
       "      <td>1619294376</td>\n",
       "    </tr>\n",
       "    <tr>\n",
       "      <th>40</th>\n",
       "      <td>New York</td>\n",
       "      <td>40.7143</td>\n",
       "      <td>-74.0060</td>\n",
       "      <td>20.29</td>\n",
       "      <td>26</td>\n",
       "      <td>1</td>\n",
       "      <td>4.12</td>\n",
       "      <td>US</td>\n",
       "      <td>1619294182</td>\n",
       "    </tr>\n",
       "    <tr>\n",
       "      <th>41</th>\n",
       "      <td>Oslo</td>\n",
       "      <td>59.9127</td>\n",
       "      <td>10.7461</td>\n",
       "      <td>3.75</td>\n",
       "      <td>31</td>\n",
       "      <td>73</td>\n",
       "      <td>0.89</td>\n",
       "      <td>NO</td>\n",
       "      <td>1619294210</td>\n",
       "    </tr>\n",
       "    <tr>\n",
       "      <th>42</th>\n",
       "      <td>Panama City</td>\n",
       "      <td>8.9936</td>\n",
       "      <td>-79.5197</td>\n",
       "      <td>31.26</td>\n",
       "      <td>66</td>\n",
       "      <td>40</td>\n",
       "      <td>3.60</td>\n",
       "      <td>PA</td>\n",
       "      <td>1619294302</td>\n",
       "    </tr>\n",
       "    <tr>\n",
       "      <th>44</th>\n",
       "      <td>Paris</td>\n",
       "      <td>48.8534</td>\n",
       "      <td>2.3488</td>\n",
       "      <td>14.54</td>\n",
       "      <td>44</td>\n",
       "      <td>0</td>\n",
       "      <td>6.17</td>\n",
       "      <td>FR</td>\n",
       "      <td>1619293990</td>\n",
       "    </tr>\n",
       "    <tr>\n",
       "      <th>46</th>\n",
       "      <td>Prague</td>\n",
       "      <td>50.0880</td>\n",
       "      <td>14.4208</td>\n",
       "      <td>7.41</td>\n",
       "      <td>53</td>\n",
       "      <td>0</td>\n",
       "      <td>3.60</td>\n",
       "      <td>CZ</td>\n",
       "      <td>1619294460</td>\n",
       "    </tr>\n",
       "    <tr>\n",
       "      <th>47</th>\n",
       "      <td>Pyongyang</td>\n",
       "      <td>39.0339</td>\n",
       "      <td>125.7543</td>\n",
       "      <td>12.19</td>\n",
       "      <td>65</td>\n",
       "      <td>6</td>\n",
       "      <td>5.45</td>\n",
       "      <td>KP</td>\n",
       "      <td>1619294479</td>\n",
       "    </tr>\n",
       "    <tr>\n",
       "      <th>48</th>\n",
       "      <td>Reykjavik</td>\n",
       "      <td>64.1355</td>\n",
       "      <td>-21.8954</td>\n",
       "      <td>7.88</td>\n",
       "      <td>81</td>\n",
       "      <td>90</td>\n",
       "      <td>8.23</td>\n",
       "      <td>IS</td>\n",
       "      <td>1619294220</td>\n",
       "    </tr>\n",
       "    <tr>\n",
       "      <th>53</th>\n",
       "      <td>Shanghai</td>\n",
       "      <td>31.2222</td>\n",
       "      <td>121.4581</td>\n",
       "      <td>17.67</td>\n",
       "      <td>100</td>\n",
       "      <td>75</td>\n",
       "      <td>2.00</td>\n",
       "      <td>CN</td>\n",
       "      <td>1619294247</td>\n",
       "    </tr>\n",
       "    <tr>\n",
       "      <th>54</th>\n",
       "      <td>Singapore</td>\n",
       "      <td>1.2897</td>\n",
       "      <td>103.8501</td>\n",
       "      <td>25.78</td>\n",
       "      <td>89</td>\n",
       "      <td>75</td>\n",
       "      <td>1.03</td>\n",
       "      <td>SG</td>\n",
       "      <td>1619294221</td>\n",
       "    </tr>\n",
       "    <tr>\n",
       "      <th>56</th>\n",
       "      <td>Toronto</td>\n",
       "      <td>43.7001</td>\n",
       "      <td>-79.4163</td>\n",
       "      <td>16.52</td>\n",
       "      <td>39</td>\n",
       "      <td>100</td>\n",
       "      <td>3.91</td>\n",
       "      <td>CA</td>\n",
       "      <td>1619293714</td>\n",
       "    </tr>\n",
       "    <tr>\n",
       "      <th>57</th>\n",
       "      <td>Vancouver</td>\n",
       "      <td>49.2497</td>\n",
       "      <td>-123.1193</td>\n",
       "      <td>9.84</td>\n",
       "      <td>93</td>\n",
       "      <td>90</td>\n",
       "      <td>2.57</td>\n",
       "      <td>CA</td>\n",
       "      <td>1619294426</td>\n",
       "    </tr>\n",
       "    <tr>\n",
       "      <th>58</th>\n",
       "      <td>Warsaw</td>\n",
       "      <td>52.2298</td>\n",
       "      <td>21.0118</td>\n",
       "      <td>6.55</td>\n",
       "      <td>46</td>\n",
       "      <td>0</td>\n",
       "      <td>3.09</td>\n",
       "      <td>PL</td>\n",
       "      <td>1619294079</td>\n",
       "    </tr>\n",
       "  </tbody>\n",
       "</table>\n",
       "</div>"
      ],
      "text/plain": [
       "           City      Lat       Lng  Max Temperature  Humidity  Cloudiness  \\\n",
       "0      Acapulco  16.8634  -99.8901            31.00        51          20   \n",
       "1    Alexandria  31.2156   29.9553            19.00        63           0   \n",
       "2     Amsterdam  52.3740    4.8897             7.82        61           0   \n",
       "3        Athens  37.9795   23.7162            13.69        77          75   \n",
       "5       Baghdad  33.3406   44.4009            25.00        25           0   \n",
       "6       Bangkok  13.7500  100.5167            29.74        79          20   \n",
       "7     Barcelona  41.3888    2.1590            14.91        82          20   \n",
       "8       Beijing  39.9075  116.3972            14.80        77           0   \n",
       "9        Berlin  52.5244   13.4105             8.59        49           0   \n",
       "10       Bogota   4.6097  -74.0817            21.00        49          40   \n",
       "13        Cairo  30.0626   31.2497            21.86        40           0   \n",
       "16      Cologne  50.9333    6.9500             9.80        50           0   \n",
       "17     Damascus  33.5102   36.2913            26.00        14          20   \n",
       "18        Delhi  28.6667   77.2167            25.00        31           0   \n",
       "19        Dubai  25.2582   55.3047            28.37        45           0   \n",
       "20    Edinburgh  55.9521   -3.1965             7.34        81           0   \n",
       "21       Havana  23.1330  -82.3830            31.83        48          40   \n",
       "22     Helsinki  60.1695   24.9355             2.19       100          20   \n",
       "23     Honolulu  21.3069 -157.8583            25.49        50          20   \n",
       "24     Istanbul  41.0351   28.9833            11.53        82          75   \n",
       "27      Kampala   0.3163   32.5822            23.00        88          20   \n",
       "28        Lagos   6.5833    3.7500            28.00        89          40   \n",
       "30       Lisbon  38.7167   -9.1333            17.34        77          20   \n",
       "31       London  51.5085   -0.1257             8.80        53          50   \n",
       "32  Los Angeles  34.0522 -118.2437            17.77        55          90   \n",
       "33       Madrid  40.4165   -3.7026            12.38        94          75   \n",
       "34       Manila  14.6042  120.9822            26.69        83          20   \n",
       "35    Melbourne  28.0836  -80.6081            26.76        69          75   \n",
       "36        Milan  45.4643    9.1895            14.85        55           0   \n",
       "37       Moscow  55.7522   37.6156             3.64        87          90   \n",
       "38       Mumbai  19.0144   72.8479            29.00        79          40   \n",
       "40     New York  40.7143  -74.0060            20.29        26           1   \n",
       "41         Oslo  59.9127   10.7461             3.75        31          73   \n",
       "42  Panama City   8.9936  -79.5197            31.26        66          40   \n",
       "44        Paris  48.8534    2.3488            14.54        44           0   \n",
       "46       Prague  50.0880   14.4208             7.41        53           0   \n",
       "47    Pyongyang  39.0339  125.7543            12.19        65           6   \n",
       "48    Reykjavik  64.1355  -21.8954             7.88        81          90   \n",
       "53     Shanghai  31.2222  121.4581            17.67       100          75   \n",
       "54    Singapore   1.2897  103.8501            25.78        89          75   \n",
       "56      Toronto  43.7001  -79.4163            16.52        39         100   \n",
       "57    Vancouver  49.2497 -123.1193             9.84        93          90   \n",
       "58       Warsaw  52.2298   21.0118             6.55        46           0   \n",
       "\n",
       "    Wind Speed Country        Date  \n",
       "0         3.60      MX  1619294472  \n",
       "1         2.06      EG  1619294473  \n",
       "2         5.14      NL  1619294001  \n",
       "3         3.09      GR  1619294464  \n",
       "5         1.03      IQ  1619294407  \n",
       "6         2.06      TH  1619294017  \n",
       "7         0.51      ES  1619294292  \n",
       "8         1.00      CN  1619294304  \n",
       "9         2.06      DE  1619294189  \n",
       "10        5.14      CO  1619294367  \n",
       "13        4.12      EG  1619294474  \n",
       "16        2.06      DE  1619294440  \n",
       "17        4.12      SY  1619294475  \n",
       "18        1.54      IN  1619294448  \n",
       "19        2.06      AE  1619294337  \n",
       "20        4.12      GB  1619294434  \n",
       "21        4.63      CU  1619294407  \n",
       "22        3.60      FI  1619294475  \n",
       "23        6.17      US  1619294410  \n",
       "24        6.17      TR  1619294373  \n",
       "27        1.59      UG  1619294367  \n",
       "28        4.12      NG  1619294477  \n",
       "30        3.09      PT  1619294287  \n",
       "31        6.69      GB  1619294392  \n",
       "32        3.21      US  1619294194  \n",
       "33        2.06      ES  1619294413  \n",
       "34        1.19      PH  1619294170  \n",
       "35        7.72      US  1619294347  \n",
       "36        1.03      IT  1619294288  \n",
       "37        7.00      RU  1619294478  \n",
       "38        2.57      IN  1619294376  \n",
       "40        4.12      US  1619294182  \n",
       "41        0.89      NO  1619294210  \n",
       "42        3.60      PA  1619294302  \n",
       "44        6.17      FR  1619293990  \n",
       "46        3.60      CZ  1619294460  \n",
       "47        5.45      KP  1619294479  \n",
       "48        8.23      IS  1619294220  \n",
       "53        2.00      CN  1619294247  \n",
       "54        1.03      SG  1619294221  \n",
       "56        3.91      CA  1619293714  \n",
       "57        2.57      CA  1619294426  \n",
       "58        3.09      PL  1619294079  "
      ]
     },
     "execution_count": 17,
     "metadata": {},
     "output_type": "execute_result"
    }
   ],
   "source": [
    "#create a dataframe for cities in Northern Hemisphere\n",
    "weather_data_nh = weather_data.loc[weather_data['Lat'] > 0]\n",
    "weather_data_nh"
   ]
  },
  {
   "cell_type": "code",
   "execution_count": 18,
   "metadata": {},
   "outputs": [
    {
     "data": {
      "text/html": [
       "<div>\n",
       "<style scoped>\n",
       "    .dataframe tbody tr th:only-of-type {\n",
       "        vertical-align: middle;\n",
       "    }\n",
       "\n",
       "    .dataframe tbody tr th {\n",
       "        vertical-align: top;\n",
       "    }\n",
       "\n",
       "    .dataframe thead th {\n",
       "        text-align: right;\n",
       "    }\n",
       "</style>\n",
       "<table border=\"1\" class=\"dataframe\">\n",
       "  <thead>\n",
       "    <tr style=\"text-align: right;\">\n",
       "      <th></th>\n",
       "      <th>City</th>\n",
       "      <th>Lat</th>\n",
       "      <th>Lng</th>\n",
       "      <th>Max Temperature</th>\n",
       "      <th>Humidity</th>\n",
       "      <th>Cloudiness</th>\n",
       "      <th>Wind Speed</th>\n",
       "      <th>Country</th>\n",
       "      <th>Date</th>\n",
       "    </tr>\n",
       "  </thead>\n",
       "  <tbody>\n",
       "    <tr>\n",
       "      <th>4</th>\n",
       "      <td>Auckland</td>\n",
       "      <td>-36.8667</td>\n",
       "      <td>174.7667</td>\n",
       "      <td>13.91</td>\n",
       "      <td>77</td>\n",
       "      <td>75</td>\n",
       "      <td>7.72</td>\n",
       "      <td>NZ</td>\n",
       "      <td>1619294329</td>\n",
       "    </tr>\n",
       "    <tr>\n",
       "      <th>11</th>\n",
       "      <td>Brasilia</td>\n",
       "      <td>-15.7797</td>\n",
       "      <td>-47.9297</td>\n",
       "      <td>28.43</td>\n",
       "      <td>39</td>\n",
       "      <td>40</td>\n",
       "      <td>1.03</td>\n",
       "      <td>BR</td>\n",
       "      <td>1619294474</td>\n",
       "    </tr>\n",
       "    <tr>\n",
       "      <th>12</th>\n",
       "      <td>Buenos Aires</td>\n",
       "      <td>-34.6132</td>\n",
       "      <td>-58.3772</td>\n",
       "      <td>22.17</td>\n",
       "      <td>53</td>\n",
       "      <td>40</td>\n",
       "      <td>3.60</td>\n",
       "      <td>AR</td>\n",
       "      <td>1619294349</td>\n",
       "    </tr>\n",
       "    <tr>\n",
       "      <th>14</th>\n",
       "      <td>Cape Town</td>\n",
       "      <td>-33.9258</td>\n",
       "      <td>18.4232</td>\n",
       "      <td>15.82</td>\n",
       "      <td>88</td>\n",
       "      <td>0</td>\n",
       "      <td>3.09</td>\n",
       "      <td>ZA</td>\n",
       "      <td>1619294410</td>\n",
       "    </tr>\n",
       "    <tr>\n",
       "      <th>15</th>\n",
       "      <td>Christchurch</td>\n",
       "      <td>-43.5333</td>\n",
       "      <td>172.6333</td>\n",
       "      <td>7.66</td>\n",
       "      <td>100</td>\n",
       "      <td>90</td>\n",
       "      <td>1.03</td>\n",
       "      <td>NZ</td>\n",
       "      <td>1619294408</td>\n",
       "    </tr>\n",
       "    <tr>\n",
       "      <th>25</th>\n",
       "      <td>Jakarta</td>\n",
       "      <td>-6.2146</td>\n",
       "      <td>106.8451</td>\n",
       "      <td>26.95</td>\n",
       "      <td>78</td>\n",
       "      <td>20</td>\n",
       "      <td>1.54</td>\n",
       "      <td>ID</td>\n",
       "      <td>1619294476</td>\n",
       "    </tr>\n",
       "    <tr>\n",
       "      <th>26</th>\n",
       "      <td>Johannesburg</td>\n",
       "      <td>-26.2023</td>\n",
       "      <td>28.0436</td>\n",
       "      <td>14.58</td>\n",
       "      <td>45</td>\n",
       "      <td>0</td>\n",
       "      <td>2.48</td>\n",
       "      <td>ZA</td>\n",
       "      <td>1619294476</td>\n",
       "    </tr>\n",
       "    <tr>\n",
       "      <th>29</th>\n",
       "      <td>Lima</td>\n",
       "      <td>-12.0432</td>\n",
       "      <td>-77.0282</td>\n",
       "      <td>21.48</td>\n",
       "      <td>73</td>\n",
       "      <td>40</td>\n",
       "      <td>3.09</td>\n",
       "      <td>PE</td>\n",
       "      <td>1619294402</td>\n",
       "    </tr>\n",
       "    <tr>\n",
       "      <th>39</th>\n",
       "      <td>Nairobi</td>\n",
       "      <td>-1.2833</td>\n",
       "      <td>36.8167</td>\n",
       "      <td>19.43</td>\n",
       "      <td>88</td>\n",
       "      <td>75</td>\n",
       "      <td>3.46</td>\n",
       "      <td>KE</td>\n",
       "      <td>1619294473</td>\n",
       "    </tr>\n",
       "    <tr>\n",
       "      <th>43</th>\n",
       "      <td>Papeete</td>\n",
       "      <td>-17.5333</td>\n",
       "      <td>-149.5667</td>\n",
       "      <td>28.94</td>\n",
       "      <td>65</td>\n",
       "      <td>75</td>\n",
       "      <td>4.12</td>\n",
       "      <td>PF</td>\n",
       "      <td>1619294325</td>\n",
       "    </tr>\n",
       "    <tr>\n",
       "      <th>45</th>\n",
       "      <td>Perth</td>\n",
       "      <td>-31.9333</td>\n",
       "      <td>115.8333</td>\n",
       "      <td>11.26</td>\n",
       "      <td>93</td>\n",
       "      <td>0</td>\n",
       "      <td>2.57</td>\n",
       "      <td>AU</td>\n",
       "      <td>1619294394</td>\n",
       "    </tr>\n",
       "    <tr>\n",
       "      <th>49</th>\n",
       "      <td>Rio De Janeiro</td>\n",
       "      <td>-22.9028</td>\n",
       "      <td>-43.2075</td>\n",
       "      <td>25.17</td>\n",
       "      <td>73</td>\n",
       "      <td>20</td>\n",
       "      <td>5.66</td>\n",
       "      <td>BR</td>\n",
       "      <td>1619294298</td>\n",
       "    </tr>\n",
       "    <tr>\n",
       "      <th>50</th>\n",
       "      <td>San Juan</td>\n",
       "      <td>-31.5375</td>\n",
       "      <td>-68.5364</td>\n",
       "      <td>23.15</td>\n",
       "      <td>26</td>\n",
       "      <td>0</td>\n",
       "      <td>4.19</td>\n",
       "      <td>AR</td>\n",
       "      <td>1619294401</td>\n",
       "    </tr>\n",
       "    <tr>\n",
       "      <th>51</th>\n",
       "      <td>Santiago</td>\n",
       "      <td>-33.4569</td>\n",
       "      <td>-70.6483</td>\n",
       "      <td>21.58</td>\n",
       "      <td>33</td>\n",
       "      <td>0</td>\n",
       "      <td>2.06</td>\n",
       "      <td>CL</td>\n",
       "      <td>1619294236</td>\n",
       "    </tr>\n",
       "    <tr>\n",
       "      <th>52</th>\n",
       "      <td>Sao Paulo</td>\n",
       "      <td>-23.5475</td>\n",
       "      <td>-46.6361</td>\n",
       "      <td>23.94</td>\n",
       "      <td>34</td>\n",
       "      <td>0</td>\n",
       "      <td>1.03</td>\n",
       "      <td>BR</td>\n",
       "      <td>1619294201</td>\n",
       "    </tr>\n",
       "    <tr>\n",
       "      <th>55</th>\n",
       "      <td>Sydney</td>\n",
       "      <td>-33.8679</td>\n",
       "      <td>151.2073</td>\n",
       "      <td>11.32</td>\n",
       "      <td>66</td>\n",
       "      <td>0</td>\n",
       "      <td>2.57</td>\n",
       "      <td>AU</td>\n",
       "      <td>1619294338</td>\n",
       "    </tr>\n",
       "    <tr>\n",
       "      <th>59</th>\n",
       "      <td>Zanzibar</td>\n",
       "      <td>-6.1639</td>\n",
       "      <td>39.1979</td>\n",
       "      <td>24.84</td>\n",
       "      <td>88</td>\n",
       "      <td>100</td>\n",
       "      <td>3.35</td>\n",
       "      <td>TZ</td>\n",
       "      <td>1619294416</td>\n",
       "    </tr>\n",
       "  </tbody>\n",
       "</table>\n",
       "</div>"
      ],
      "text/plain": [
       "              City      Lat       Lng  Max Temperature  Humidity  Cloudiness  \\\n",
       "4         Auckland -36.8667  174.7667            13.91        77          75   \n",
       "11        Brasilia -15.7797  -47.9297            28.43        39          40   \n",
       "12    Buenos Aires -34.6132  -58.3772            22.17        53          40   \n",
       "14       Cape Town -33.9258   18.4232            15.82        88           0   \n",
       "15    Christchurch -43.5333  172.6333             7.66       100          90   \n",
       "25         Jakarta  -6.2146  106.8451            26.95        78          20   \n",
       "26    Johannesburg -26.2023   28.0436            14.58        45           0   \n",
       "29            Lima -12.0432  -77.0282            21.48        73          40   \n",
       "39         Nairobi  -1.2833   36.8167            19.43        88          75   \n",
       "43         Papeete -17.5333 -149.5667            28.94        65          75   \n",
       "45           Perth -31.9333  115.8333            11.26        93           0   \n",
       "49  Rio De Janeiro -22.9028  -43.2075            25.17        73          20   \n",
       "50        San Juan -31.5375  -68.5364            23.15        26           0   \n",
       "51        Santiago -33.4569  -70.6483            21.58        33           0   \n",
       "52       Sao Paulo -23.5475  -46.6361            23.94        34           0   \n",
       "55          Sydney -33.8679  151.2073            11.32        66           0   \n",
       "59        Zanzibar  -6.1639   39.1979            24.84        88         100   \n",
       "\n",
       "    Wind Speed Country        Date  \n",
       "4         7.72      NZ  1619294329  \n",
       "11        1.03      BR  1619294474  \n",
       "12        3.60      AR  1619294349  \n",
       "14        3.09      ZA  1619294410  \n",
       "15        1.03      NZ  1619294408  \n",
       "25        1.54      ID  1619294476  \n",
       "26        2.48      ZA  1619294476  \n",
       "29        3.09      PE  1619294402  \n",
       "39        3.46      KE  1619294473  \n",
       "43        4.12      PF  1619294325  \n",
       "45        2.57      AU  1619294394  \n",
       "49        5.66      BR  1619294298  \n",
       "50        4.19      AR  1619294401  \n",
       "51        2.06      CL  1619294236  \n",
       "52        1.03      BR  1619294201  \n",
       "55        2.57      AU  1619294338  \n",
       "59        3.35      TZ  1619294416  "
      ]
     },
     "execution_count": 18,
     "metadata": {},
     "output_type": "execute_result"
    }
   ],
   "source": [
    "#create a dataframe for cities in Southern Hemisphere\n",
    "weather_data_sh = weather_data.loc[weather_data['Lat'] < 0]\n",
    "weather_data_sh"
   ]
  },
  {
   "cell_type": "markdown",
   "metadata": {},
   "source": [
    "####  Northern Hemisphere - Max Temp vs. Latitude Linear Regression"
   ]
  },
  {
   "cell_type": "code",
   "execution_count": 31,
   "metadata": {
    "scrolled": true
   },
   "outputs": [
    {
     "name": "stdout",
     "output_type": "stream",
     "text": [
      "The r-value is: -0.8671635610424349\n"
     ]
    },
    {
     "data": {
      "image/png": "[encoded data removed]",
      "text/plain": [
       "<Figure size 432x288 with 1 Axes>"
      ]
     },
     "metadata": {
      "needs_background": "light"
     },
     "output_type": "display_data"
    }
   ],
   "source": [
    "# Calculate the  linear regression model for Temp / Lat in N Hemisphere \n",
    "x_values = weather_data_nh['Lat']\n",
    "y_values = weather_data_nh['Max Temperature']\n",
    "(slope, intercept, rvalue, pvalue, stderr) = linregress(x_values, y_values)\n",
    "regress_values = x_values * slope + intercept\n",
    "line_eq = \"y = \" + str(round(slope,2)) + \"x + \" + str(round(intercept,2))\n",
    "plt.scatter(x_values,y_values)\n",
    "plt.plot(x_values,regress_values,\"r-\")\n",
    "plt.annotate(line_eq,(6,10),fontsize=15,color=\"red\")\n",
    "plt.title('Linear Regression Max Temp vs Latitude in N Hemisphere')\n",
    "plt.xlabel('Latitude')\n",
    "plt.ylabel('Max Temp')\n",
    "\n",
    "print(f\"The r-value is: {rvalue}\")\n",
    "plt.savefig('tvlnh.png')\n",
    "plt.show()"
   ]
  },
  {
   "cell_type": "code",
   "execution_count": 20,
   "metadata": {},
   "outputs": [],
   "source": [
    "#Analysis - Strong trend for Temperature vs Latitude"
   ]
  },
  {
   "cell_type": "markdown",
   "metadata": {},
   "source": [
    "####  Southern Hemisphere - Max Temp vs. Latitude Linear Regression"
   ]
  },
  {
   "cell_type": "code",
   "execution_count": 21,
   "metadata": {},
   "outputs": [
    {
     "name": "stdout",
     "output_type": "stream",
     "text": [
      "The r-value is: 0.6322949244156836\n"
     ]
    },
    {
     "data": {
      "image/png": "[encoded data removed]",
      "text/plain": [
       "<Figure size 432x288 with 1 Axes>"
      ]
     },
     "metadata": {
      "needs_background": "light"
     },
     "output_type": "display_data"
    }
   ],
   "source": [
    "# Calculate the  linear regression model for Temp / Lat in S Hemisphere \n",
    "x_values = weather_data_sh['Lat']\n",
    "y_values = weather_data_sh['Max Temperature']\n",
    "(slope, intercept, rvalue, pvalue, stderr) = linregress(x_values, y_values)\n",
    "regress_values = x_values * slope + intercept\n",
    "line_eq = \"y = \" + str(round(slope,2)) + \"x + \" + str(round(intercept,2))\n",
    "plt.scatter(x_values,y_values)\n",
    "plt.plot(x_values,regress_values,\"r-\")\n",
    "plt.annotate(line_eq,(6,10),fontsize=15,color=\"red\")\n",
    "plt.title('Linear Regression Max Temp vs Latitude in S Hemisphere')\n",
    "plt.xlabel('Latitude')\n",
    "plt.ylabel('Max Temp')\n",
    "plt.annotate(line_eq,(20,15),fontsize=15,color=\"red\")\n",
    "print(f\"The r-value is: {rvalue}\")\n",
    "plt.savefig('tvlsh.png')\n",
    "plt.show()"
   ]
  },
  {
   "cell_type": "code",
   "execution_count": 22,
   "metadata": {},
   "outputs": [],
   "source": [
    "#Analysis - Strong trend for Temperature vs Latitude"
   ]
  },
  {
   "cell_type": "markdown",
   "metadata": {},
   "source": [
    "####  Northern Hemisphere - Humidity (%) vs. Latitude Linear Regression"
   ]
  },
  {
   "cell_type": "code",
   "execution_count": 30,
   "metadata": {},
   "outputs": [
    {
     "name": "stdout",
     "output_type": "stream",
     "text": [
      "The r-value is: -0.09042554814918104\n"
     ]
    },
    {
     "data": {
      "image/png": "[encoded data removed]",
      "text/plain": [
       "<Figure size 432x288 with 1 Axes>"
      ]
     },
     "metadata": {
      "needs_background": "light"
     },
     "output_type": "display_data"
    }
   ],
   "source": [
    "# Calculate the  linear regression model for Humidity / Lat in N Hemisphere \n",
    "x_values = weather_data_nh['Lat']\n",
    "y_values = weather_data_nh['Humidity']\n",
    "(slope, intercept, rvalue, pvalue, stderr) = linregress(x_values, y_values)\n",
    "regress_values = x_values * slope + intercept\n",
    "line_eq = \"y = \" + str(round(slope,2)) + \"x + \" + str(round(intercept,2))\n",
    "plt.scatter(x_values,y_values)\n",
    "plt.plot(x_values,regress_values,\"r-\")\n",
    "plt.annotate(line_eq,(6,10),fontsize=15,color=\"red\")\n",
    "plt.title('Linear Regression Humidity vs Latitude in N Hemisphere')\n",
    "plt.xlabel('Latitude')\n",
    "plt.ylabel('Humidity')\n",
    "\n",
    "print(f\"The r-value is: {rvalue}\")\n",
    "plt.savefig('hvlnh.png')\n",
    "plt.show()"
   ]
  },
  {
   "cell_type": "code",
   "execution_count": 24,
   "metadata": {},
   "outputs": [],
   "source": [
    "#Analysis - No trend for Humidity vs Latitude"
   ]
  },
  {
   "cell_type": "markdown",
   "metadata": {},
   "source": [
    "####  Southern Hemisphere - Humidity (%) vs. Latitude Linear Regression"
   ]
  },
  {
   "cell_type": "code",
   "execution_count": 32,
   "metadata": {
    "scrolled": true
   },
   "outputs": [
    {
     "name": "stdout",
     "output_type": "stream",
     "text": [
      "The r-value is: 0.11026721583572047\n"
     ]
    },
    {
     "data": {
      "image/png": "[encoded data removed]",
      "text/plain": [
       "<Figure size 432x288 with 1 Axes>"
      ]
     },
     "metadata": {
      "needs_background": "light"
     },
     "output_type": "display_data"
    }
   ],
   "source": [
    "# Calculate the  linear regression model for Humidity / Lat in S Hemisphere \n",
    "x_values = weather_data_sh['Lat']\n",
    "y_values = weather_data_sh['Humidity']\n",
    "(slope, intercept, rvalue, pvalue, stderr) = linregress(x_values, y_values)\n",
    "regress_values = x_values * slope + intercept\n",
    "line_eq = \"y = \" + str(round(slope,2)) + \"x + \" + str(round(intercept,2))\n",
    "plt.scatter(x_values,y_values)\n",
    "plt.plot(x_values,regress_values,\"r-\")\n",
    "plt.annotate(line_eq,(6,10),fontsize=15,color=\"red\")\n",
    "plt.title('Linear Regression Humidity vs Latitude in S Hemisphere')\n",
    "plt.xlabel('Latitude')\n",
    "plt.ylabel('Humidity')\n",
    "plt.annotate(line_eq,(20,15),fontsize=15,color=\"red\")\n",
    "print(f\"The r-value is: {rvalue}\")\n",
    "plt.savefig('hvlsh.png')\n",
    "plt.show()"
   ]
  },
  {
   "cell_type": "code",
   "execution_count": 33,
   "metadata": {},
   "outputs": [],
   "source": [
    "#Analysis - Small trend for Humidity vs Latitude"
   ]
  },
  {
   "cell_type": "markdown",
   "metadata": {},
   "source": [
    "Northern Hemisphere - Cloudiness (%) vs. Latitude Linear Regression\n"
   ]
  },
  {
   "cell_type": "code",
   "execution_count": 34,
   "metadata": {},
   "outputs": [
    {
     "name": "stdout",
     "output_type": "stream",
     "text": [
      "The r-value is: 0.023085746916686654\n"
     ]
    },
    {
     "data": {
      "image/png": "[encoded data removed]",
      "text/plain": [
       "<Figure size 432x288 with 1 Axes>"
      ]
     },
     "metadata": {
      "needs_background": "light"
     },
     "output_type": "display_data"
    }
   ],
   "source": [
    "# Calculate the  linear regression model for Cloudiness / Lat in N Hemisphere \n",
    "x_values = weather_data_nh['Lat']\n",
    "y_values = weather_data_nh['Cloudiness']\n",
    "(slope, intercept, rvalue, pvalue, stderr) = linregress(x_values, y_values)\n",
    "regress_values = x_values * slope + intercept\n",
    "line_eq = \"y = \" + str(round(slope,2)) + \"x + \" + str(round(intercept,2))\n",
    "plt.scatter(x_values,y_values)\n",
    "plt.plot(x_values,regress_values,\"r-\")\n",
    "plt.annotate(line_eq,(6,10),fontsize=15,color=\"red\")\n",
    "plt.title('Linear Regression Cloudiness vs Latitude in N Hemisphere')\n",
    "plt.xlabel('Latitude')\n",
    "plt.ylabel('Cloudiness')\n",
    "\n",
    "print(f\"The r-value is: {rvalue}\")\n",
    "plt.savefig('cvlnh.png')\n",
    "plt.show()"
   ]
  },
  {
   "cell_type": "code",
   "execution_count": 35,
   "metadata": {},
   "outputs": [],
   "source": [
    "#Analysis - Small trend for Cloudiness vs Latitude"
   ]
  },
  {
   "cell_type": "markdown",
   "metadata": {},
   "source": [
    "####  Southern Hemisphere - Cloudiness (%) vs. Latitude Linear Regression"
   ]
  },
  {
   "cell_type": "code",
   "execution_count": 36,
   "metadata": {},
   "outputs": [
    {
     "name": "stdout",
     "output_type": "stream",
     "text": [
      "The r-value is: 0.29394095252069363\n"
     ]
    },
    {
     "data": {
      "image/png": "[encoded data removed]",
      "text/plain": [
       "<Figure size 432x288 with 1 Axes>"
      ]
     },
     "metadata": {
      "needs_background": "light"
     },
     "output_type": "display_data"
    }
   ],
   "source": [
    "# Calculate the  linear regression model for Cloudiness / Lat in S Hemisphere \n",
    "x_values = weather_data_sh['Lat']\n",
    "y_values = weather_data_sh['Cloudiness']\n",
    "(slope, intercept, rvalue, pvalue, stderr) = linregress(x_values, y_values)\n",
    "regress_values = x_values * slope + intercept\n",
    "line_eq = \"y = \" + str(round(slope,2)) + \"x + \" + str(round(intercept,2))\n",
    "plt.scatter(x_values,y_values)\n",
    "plt.plot(x_values,regress_values,\"r-\")\n",
    "plt.annotate(line_eq,(6,10),fontsize=15,color=\"red\")\n",
    "plt.title('Linear Regression Cloudiness vs Latitude in S Hemisphere')\n",
    "plt.xlabel('Latitude')\n",
    "plt.ylabel('Cloudiness')\n",
    "plt.annotate(line_eq,(20,15),fontsize=15,color=\"red\")\n",
    "print(f\"The r-value is: {rvalue}\")\n",
    "plt.savefig('cvlsh.png')\n",
    "plt.show()"
   ]
  },
  {
   "cell_type": "code",
   "execution_count": 37,
   "metadata": {},
   "outputs": [],
   "source": [
    "#Analysis - Trend for Humidity vs Latitude"
   ]
  },
  {
   "cell_type": "markdown",
   "metadata": {},
   "source": [
    "####  Northern Hemisphere - Wind Speed (mph) vs. Latitude Linear Regression"
   ]
  },
  {
   "cell_type": "code",
   "execution_count": 38,
   "metadata": {},
   "outputs": [
    {
     "name": "stdout",
     "output_type": "stream",
     "text": [
      "The r-value is: 0.21392213758552933\n"
     ]
    },
    {
     "data": {
      "image/png": "[encoded data removed]",
      "text/plain": [
       "<Figure size 432x288 with 1 Axes>"
      ]
     },
     "metadata": {
      "needs_background": "light"
     },
     "output_type": "display_data"
    }
   ],
   "source": [
    "# Calculate the  linear regression model for Wind Speed / Lat in N Hemisphere \n",
    "x_values = weather_data_nh['Lat']\n",
    "y_values = weather_data_nh['Wind Speed']\n",
    "(slope, intercept, rvalue, pvalue, stderr) = linregress(x_values, y_values)\n",
    "regress_values = x_values * slope + intercept\n",
    "line_eq = \"y = \" + str(round(slope,2)) + \"x + \" + str(round(intercept,2))\n",
    "plt.scatter(x_values,y_values)\n",
    "plt.plot(x_values,regress_values,\"r-\")\n",
    "plt.annotate(line_eq,(6,10),fontsize=15,color=\"red\")\n",
    "plt.title('Linear Regression Wind Speed vs Latitude in N Hemisphere')\n",
    "plt.xlabel('Latitude')\n",
    "plt.ylabel('Wind Speed')\n",
    "plt.annotate(line_eq,(20,15),fontsize=15,color=\"red\")\n",
    "print(f\"The r-value is: {rvalue}\")\n",
    "plt.savefig('wvlnh.png')\n",
    "plt.show()"
   ]
  },
  {
   "cell_type": "code",
   "execution_count": 39,
   "metadata": {},
   "outputs": [],
   "source": [
    "#Analysis - Small trend for Wind Speed vs Latitude"
   ]
  },
  {
   "cell_type": "markdown",
   "metadata": {},
   "source": [
    "####  Southern Hemisphere - Wind Speed (mph) vs. Latitude Linear Regression"
   ]
  },
  {
   "cell_type": "code",
   "execution_count": 40,
   "metadata": {},
   "outputs": [
    {
     "name": "stdout",
     "output_type": "stream",
     "text": [
      "The r-value is: -0.10343530642964055\n"
     ]
    },
    {
     "data": {
      "image/png": "[encoded data removed]",
      "text/plain": [
       "<Figure size 432x288 with 1 Axes>"
      ]
     },
     "metadata": {
      "needs_background": "light"
     },
     "output_type": "display_data"
    }
   ],
   "source": [
    "# Calculate the  linear regression model for Wind Speed / Lat in S Hemisphere \n",
    "x_values = weather_data_sh['Lat']\n",
    "y_values = weather_data_sh['Wind Speed']\n",
    "(slope, intercept, rvalue, pvalue, stderr) = linregress(x_values, y_values)\n",
    "regress_values = x_values * slope + intercept\n",
    "line_eq = \"y = \" + str(round(slope,2)) + \"x + \" + str(round(intercept,2))\n",
    "plt.scatter(x_values,y_values)\n",
    "plt.plot(x_values,regress_values,\"r-\")\n",
    "plt.annotate(line_eq,(6,10),fontsize=15,color=\"red\")\n",
    "plt.title('Linear Regression Wind Speed vs Latitude in N Hemisphere')\n",
    "plt.xlabel('Latitude')\n",
    "plt.ylabel('Wind Speed')\n",
    "plt.annotate(line_eq,(20,15),fontsize=15,color=\"red\")\n",
    "print(f\"The r-value is: {rvalue}\")\n",
    "plt.savefig('wvlsh.png')\n",
    "plt.show()"
   ]
  },
  {
   "cell_type": "code",
   "execution_count": 259,
   "metadata": {},
   "outputs": [],
   "source": [
    "#Analysis - Small trend for Wind Speed vs Latitude"
   ]
  }
 ],
 "metadata": {
  "anaconda-cloud": {},
  "kernel_info": {
   "name": "python3"
  },
  "kernelspec": {
   "display_name": "Python [conda env:PythonData] *",
   "language": "python",
   "name": "conda-env-PythonData-py"
  },
  "language_info": {
   "codemirror_mode": {
    "name": "ipython",
    "version": 3
   },
   "file_extension": ".py",
   "mimetype": "text/x-python",
   "name": "python",
   "nbconvert_exporter": "python",
   "pygments_lexer": "ipython3",
   "version": "3.6.10"
  },
  "latex_envs": {
   "LaTeX_envs_menu_present": true,
   "autoclose": false,
   "autocomplete": true,
   "bibliofile": "biblio.bib",
   "cite_by": "apalike",
   "current_citInitial": 1,
   "eqLabelWithNumbers": true,
   "eqNumInitial": 1,
   "hotkeys": {
    "equation": "Ctrl-E",
    "itemize": "Ctrl-I"
   },
   "labels_anchors": false,
   "latex_user_defs": false,
   "report_style_numbering": false,
   "user_envs_cfg": false
  },
  "nteract": {
   "version": "0.12.3"
  }
 },
 "nbformat": 4,
 "nbformat_minor": 2
}
