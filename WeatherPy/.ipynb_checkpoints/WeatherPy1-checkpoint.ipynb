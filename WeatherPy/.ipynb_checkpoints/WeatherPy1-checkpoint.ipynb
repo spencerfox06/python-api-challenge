{
 "cells": [
  {
   "cell_type": "markdown",
   "metadata": {},
   "source": [
    "# WeatherPy\n",
    "----\n",
    "\n",
    "#### Note\n",
    "* Instructions have been included for each segment. You do not have to follow them exactly, but they are included to help you think through the steps."
   ]
  },
  {
   "cell_type": "code",
   "execution_count": 264,
   "metadata": {
    "scrolled": true
   },
   "outputs": [],
   "source": [
    "# Dependencies and Setup\n",
    "import matplotlib.pyplot as plt\n",
    "import pandas as pd\n",
    "import numpy as np\n",
    "import requests\n",
    "import time\n",
    "from scipy.stats import linregress\n",
    "\n",
    "# Import API key\n",
    "from api_keys import weather_api_key\n"
   ]
  },
  {
   "cell_type": "markdown",
   "metadata": {},
   "source": [
    "## Generate Cities List"
   ]
  },
  {
   "cell_type": "markdown",
   "metadata": {},
   "source": [
    "### Perform API Calls\n",
    "* Perform a weather check on each city using a series of successive API calls.\n",
    "* Include a print log of each city as it'sbeing processed (with the city number and city name).\n"
   ]
  },
  {
   "cell_type": "code",
   "execution_count": 265,
   "metadata": {
    "scrolled": true
   },
   "outputs": [
    {
     "data": {
      "text/plain": [
       "'http://api.openweathermap.org/data/2.5/weather?appid=cc049e531057bfdbb4ab12f3a82cff5c&units=metric&q='"
      ]
     },
     "execution_count": 265,
     "metadata": {},
     "output_type": "execute_result"
    }
   ],
   "source": [
    "# Save config information.\n",
    "url = \"http://api.openweathermap.org/data/2.5/weather?\"\n",
    "units = \"metric\"\n",
    "\n",
    "# Build partial query URL\n",
    "query_url = f\"{url}appid={weather_api_key}&units={units}&q=\"\n",
    "query_url"
   ]
  },
  {
   "cell_type": "code",
   "execution_count": 266,
   "metadata": {},
   "outputs": [
    {
     "name": "stdout",
     "output_type": "stream",
     "text": [
      "The measurement information received is: ['PE', 'FR', 'GB', 'CN', 'IN', 'PH', 'US', 'US', 'ID', 'TW', 'DE', 'BR', 'CL', 'AR', 'PE', 'AU', 'TR', 'EG', 'RU', 'ZA']\n"
     ]
    }
   ],
   "source": [
    "cities = [\"Lima\", \"Paris\", \"London\", \"Beijing\", \"Mumbai\", \"Manila\", \"New York\", \"Los Angeles\", \"Jakarta\", \"Taipei\", \"Berlin\", \"Sao Paulo\", \"Santiago\", \"Buenos Aires\", \"Lima\", \"Sydney\", \"Istanbul\", \"Cairo\", \"Moscow\", \"Cape Town\"]\n",
    "\n",
    "# set up lists to hold reponse info\n",
    "lat = []\n",
    "lon = []\n",
    "temp = []\n",
    "tempmax = []\n",
    "humid = []\n",
    "clouds = []\n",
    "wind = []\n",
    "country = []\n",
    "date = []\n",
    "\n",
    "# Loop through the list of cities and perform a request for data on each\n",
    "for city in cities:\n",
    "    response = requests.get(query_url + city).json()\n",
    "    lat.append(response['coord']['lat'])\n",
    "    lon.append(response['coord']['lon'])\n",
    "    temp.append(response['main']['temp'])\n",
    "    tempmax.append(response['main']['temp_max'])\n",
    "    humid.append(response['main']['humidity'])\n",
    "    clouds.append(response['clouds']['all'])\n",
    "    wind.append(response['wind']['speed'])\n",
    "    country.append(response['sys']['country'])\n",
    "    date.append(response['dt'])\n",
    "\n",
    "print(f\"The measurement information received is: {country}\")"
   ]
  },
  {
   "cell_type": "markdown",
   "metadata": {},
   "source": [
    "### Convert Raw Data to DataFrame\n",
    "* Export the city data into a .csv.\n",
    "* Display the DataFrame"
   ]
  },
  {
   "cell_type": "code",
   "execution_count": 267,
   "metadata": {
    "scrolled": true
   },
   "outputs": [
    {
     "data": {
      "text/html": [
       "<div>\n",
       "<style scoped>\n",
       "    .dataframe tbody tr th:only-of-type {\n",
       "        vertical-align: middle;\n",
       "    }\n",
       "\n",
       "    .dataframe tbody tr th {\n",
       "        vertical-align: top;\n",
       "    }\n",
       "\n",
       "    .dataframe thead th {\n",
       "        text-align: right;\n",
       "    }\n",
       "</style>\n",
       "<table border=\"1\" class=\"dataframe\">\n",
       "  <thead>\n",
       "    <tr style=\"text-align: right;\">\n",
       "      <th></th>\n",
       "      <th>City</th>\n",
       "      <th>Lat</th>\n",
       "      <th>Lng</th>\n",
       "      <th>Max Temperature</th>\n",
       "      <th>Humidity</th>\n",
       "      <th>Cloudiness</th>\n",
       "      <th>Wind Speed</th>\n",
       "      <th>Country</th>\n",
       "      <th>Date</th>\n",
       "    </tr>\n",
       "  </thead>\n",
       "  <tbody>\n",
       "    <tr>\n",
       "      <th>0</th>\n",
       "      <td>Lima</td>\n",
       "      <td>-12.0432</td>\n",
       "      <td>-77.0282</td>\n",
       "      <td>17.85</td>\n",
       "      <td>88</td>\n",
       "      <td>75</td>\n",
       "      <td>5.14</td>\n",
       "      <td>PE</td>\n",
       "      <td>1619235673</td>\n",
       "    </tr>\n",
       "    <tr>\n",
       "      <th>1</th>\n",
       "      <td>Paris</td>\n",
       "      <td>48.8534</td>\n",
       "      <td>2.3488</td>\n",
       "      <td>7.72</td>\n",
       "      <td>57</td>\n",
       "      <td>0</td>\n",
       "      <td>4.12</td>\n",
       "      <td>FR</td>\n",
       "      <td>1619235482</td>\n",
       "    </tr>\n",
       "    <tr>\n",
       "      <th>2</th>\n",
       "      <td>London</td>\n",
       "      <td>51.5085</td>\n",
       "      <td>-0.1257</td>\n",
       "      <td>4.63</td>\n",
       "      <td>87</td>\n",
       "      <td>100</td>\n",
       "      <td>2.06</td>\n",
       "      <td>GB</td>\n",
       "      <td>1619234906</td>\n",
       "    </tr>\n",
       "    <tr>\n",
       "      <th>3</th>\n",
       "      <td>Beijing</td>\n",
       "      <td>39.9075</td>\n",
       "      <td>116.3972</td>\n",
       "      <td>21.67</td>\n",
       "      <td>46</td>\n",
       "      <td>0</td>\n",
       "      <td>2.00</td>\n",
       "      <td>CN</td>\n",
       "      <td>1619235693</td>\n",
       "    </tr>\n",
       "    <tr>\n",
       "      <th>4</th>\n",
       "      <td>Mumbai</td>\n",
       "      <td>19.0144</td>\n",
       "      <td>72.8479</td>\n",
       "      <td>29.49</td>\n",
       "      <td>70</td>\n",
       "      <td>20</td>\n",
       "      <td>1.54</td>\n",
       "      <td>IN</td>\n",
       "      <td>1619235590</td>\n",
       "    </tr>\n",
       "  </tbody>\n",
       "</table>\n",
       "</div>"
      ],
      "text/plain": [
       "      City      Lat       Lng  Max Temperature  Humidity  Cloudiness  \\\n",
       "0     Lima -12.0432  -77.0282            17.85        88          75   \n",
       "1    Paris  48.8534    2.3488             7.72        57           0   \n",
       "2   London  51.5085   -0.1257             4.63        87         100   \n",
       "3  Beijing  39.9075  116.3972            21.67        46           0   \n",
       "4   Mumbai  19.0144   72.8479            29.49        70          20   \n",
       "\n",
       "   Wind Speed Country        Date  \n",
       "0        5.14      PE  1619235673  \n",
       "1        4.12      FR  1619235482  \n",
       "2        2.06      GB  1619234906  \n",
       "3        2.00      CN  1619235693  \n",
       "4        1.54      IN  1619235590  "
      ]
     },
     "execution_count": 267,
     "metadata": {},
     "output_type": "execute_result"
    }
   ],
   "source": [
    "# create a data frame from cities, lat, and temp\n",
    "weather_dict = {\n",
    "    \"City\": cities,\n",
    "    \"Lat\": lat,\n",
    "    \"Lng\": lon,\n",
    "    \"Max Temperature\": temp,\n",
    "    \"Humidity\": humid,\n",
    "    \"Cloudiness\": clouds,\n",
    "    \"Wind Speed\": wind,\n",
    "    \"Country\": country,\n",
    "    \"Date\": date,\n",
    "}\n",
    "weather_data = pd.DataFrame(weather_dict)\n",
    "weather_data.head()\n"
   ]
  },
  {
   "cell_type": "code",
   "execution_count": 268,
   "metadata": {},
   "outputs": [],
   "source": [
    "#Write to csv file\n",
    "weather_data.to_csv(r'..\\Resources\\weather_data.csv', index = False)"
   ]
  },
  {
   "cell_type": "code",
   "execution_count": 269,
   "metadata": {},
   "outputs": [
    {
     "data": {
      "text/html": [
       "<div>\n",
       "<style scoped>\n",
       "    .dataframe tbody tr th:only-of-type {\n",
       "        vertical-align: middle;\n",
       "    }\n",
       "\n",
       "    .dataframe tbody tr th {\n",
       "        vertical-align: top;\n",
       "    }\n",
       "\n",
       "    .dataframe thead th {\n",
       "        text-align: right;\n",
       "    }\n",
       "</style>\n",
       "<table border=\"1\" class=\"dataframe\">\n",
       "  <thead>\n",
       "    <tr style=\"text-align: right;\">\n",
       "      <th></th>\n",
       "      <th>index</th>\n",
       "      <th>City</th>\n",
       "      <th>Lat</th>\n",
       "      <th>Lng</th>\n",
       "      <th>Max Temperature</th>\n",
       "      <th>Humidity</th>\n",
       "      <th>Cloudiness</th>\n",
       "      <th>Wind Speed</th>\n",
       "      <th>Country</th>\n",
       "      <th>Date</th>\n",
       "    </tr>\n",
       "  </thead>\n",
       "  <tbody>\n",
       "    <tr>\n",
       "      <th>0</th>\n",
       "      <td>count</td>\n",
       "      <td>20</td>\n",
       "      <td>20.000000</td>\n",
       "      <td>20.000000</td>\n",
       "      <td>20.000000</td>\n",
       "      <td>20.000000</td>\n",
       "      <td>20.000000</td>\n",
       "      <td>20.000000</td>\n",
       "      <td>20</td>\n",
       "      <td>2.000000e+01</td>\n",
       "    </tr>\n",
       "    <tr>\n",
       "      <th>1</th>\n",
       "      <td>min</td>\n",
       "      <td>Beijing</td>\n",
       "      <td>-34.613200</td>\n",
       "      <td>-118.243700</td>\n",
       "      <td>4.290000</td>\n",
       "      <td>33.000000</td>\n",
       "      <td>0.000000</td>\n",
       "      <td>1.540000</td>\n",
       "      <td>AR</td>\n",
       "      <td>1.619235e+09</td>\n",
       "    </tr>\n",
       "    <tr>\n",
       "      <th>2</th>\n",
       "      <td>max</td>\n",
       "      <td>Taipei</td>\n",
       "      <td>55.752200</td>\n",
       "      <td>151.207300</td>\n",
       "      <td>31.110000</td>\n",
       "      <td>94.000000</td>\n",
       "      <td>100.000000</td>\n",
       "      <td>7.200000</td>\n",
       "      <td>ZA</td>\n",
       "      <td>1.619236e+09</td>\n",
       "    </tr>\n",
       "    <tr>\n",
       "      <th>3</th>\n",
       "      <td>mean</td>\n",
       "      <td>NaN</td>\n",
       "      <td>13.168215</td>\n",
       "      <td>14.987465</td>\n",
       "      <td>16.918500</td>\n",
       "      <td>71.700000</td>\n",
       "      <td>32.550000</td>\n",
       "      <td>3.431500</td>\n",
       "      <td>NaN</td>\n",
       "      <td>1.619236e+09</td>\n",
       "    </tr>\n",
       "    <tr>\n",
       "      <th>4</th>\n",
       "      <td>std</td>\n",
       "      <td>NaN</td>\n",
       "      <td>33.353888</td>\n",
       "      <td>80.689239</td>\n",
       "      <td>8.220917</td>\n",
       "      <td>18.281714</td>\n",
       "      <td>35.696786</td>\n",
       "      <td>1.556958</td>\n",
       "      <td>NaN</td>\n",
       "      <td>2.315618e+02</td>\n",
       "    </tr>\n",
       "  </tbody>\n",
       "</table>\n",
       "</div>"
      ],
      "text/plain": [
       "   index     City        Lat         Lng  Max Temperature   Humidity  \\\n",
       "0  count       20  20.000000   20.000000        20.000000  20.000000   \n",
       "1    min  Beijing -34.613200 -118.243700         4.290000  33.000000   \n",
       "2    max   Taipei  55.752200  151.207300        31.110000  94.000000   \n",
       "3   mean      NaN  13.168215   14.987465        16.918500  71.700000   \n",
       "4    std      NaN  33.353888   80.689239         8.220917  18.281714   \n",
       "\n",
       "   Cloudiness  Wind Speed Country          Date  \n",
       "0   20.000000   20.000000      20  2.000000e+01  \n",
       "1    0.000000    1.540000      AR  1.619235e+09  \n",
       "2  100.000000    7.200000      ZA  1.619236e+09  \n",
       "3   32.550000    3.431500     NaN  1.619236e+09  \n",
       "4   35.696786    1.556958     NaN  2.315618e+02  "
      ]
     },
     "execution_count": 269,
     "metadata": {},
     "output_type": "execute_result"
    }
   ],
   "source": [
    "weather_data.agg(['count', 'mean', 'std', 'min', 'max']).reset_index()"
   ]
  },
  {
   "cell_type": "markdown",
   "metadata": {},
   "source": [
    "## Plotting the Data\n",
    "* Use proper labeling of the plots using plot titles (including date of analysis) and axes labels.\n",
    "* Save the plotted figures as .pngs."
   ]
  },
  {
   "cell_type": "markdown",
   "metadata": {},
   "source": [
    "## Latitude vs. Temperature Plot"
   ]
  },
  {
   "cell_type": "code",
   "execution_count": 270,
   "metadata": {},
   "outputs": [
    {
     "data": {
      "image/png": "[encoded data removed]",
      "text/plain": [
       "<Figure size 432x288 with 1 Axes>"
      ]
     },
     "metadata": {
      "needs_background": "light"
     },
     "output_type": "display_data"
    }
   ],
   "source": [
    "# Build a scatter plot for each data type\n",
    "plt.scatter(weather_data[\"Lat\"], weather_data[\"Max Temperature\"], marker=\"o\")\n",
    "\n",
    "# Incorporate the other graph properties\n",
    "plt.title(\"City Latitude vs Max Temperature 04/24/2021\")\n",
    "plt.ylabel(\"Max Temperature (Celsius)\")\n",
    "plt.xlabel(\"Latitude\")\n",
    "plt.grid(True)\n",
    "\n",
    "# Save the figure\n",
    "plt.savefig(\"Temp_vs_Lat.png\")\n",
    "\n",
    "# Show plot\n",
    "plt.show()"
   ]
  },
  {
   "cell_type": "code",
   "execution_count": 272,
   "metadata": {},
   "outputs": [],
   "source": [
    "#Analysis - Max Temperature rises closer to Equator"
   ]
  },
  {
   "cell_type": "markdown",
   "metadata": {},
   "source": [
    "## Latitude vs. Humidity Plot"
   ]
  },
  {
   "cell_type": "code",
   "execution_count": 273,
   "metadata": {
    "scrolled": true
   },
   "outputs": [
    {
     "data": {
      "image/png": "[encoded data removed]",
      "text/plain": [
       "<Figure size 432x288 with 1 Axes>"
      ]
     },
     "metadata": {
      "needs_background": "light"
     },
     "output_type": "display_data"
    }
   ],
   "source": [
    "# Build a scatter plot for each data type\n",
    "plt.scatter(weather_data[\"Lat\"], weather_data[\"Humidity\"], marker=\"o\")\n",
    "\n",
    "# Incorporate the other graph properties\n",
    "plt.title(\"City Latitude vs Humidity 04/24/2021\")\n",
    "plt.ylabel(\"Humidity %\")\n",
    "plt.xlabel(\"Latitude\")\n",
    "plt.grid(True)\n",
    "\n",
    "# Save the figure\n",
    "plt.savefig(\"Temp_vs_Humid.png\")\n",
    "\n",
    "# Show plot\n",
    "plt.show()"
   ]
  },
  {
   "cell_type": "code",
   "execution_count": 274,
   "metadata": {},
   "outputs": [],
   "source": [
    "#Analysis - Less of a trend for Humidity compared to Temperature vs Latitude"
   ]
  },
  {
   "cell_type": "markdown",
   "metadata": {},
   "source": [
    "## Latitude vs. Cloudiness Plot"
   ]
  },
  {
   "cell_type": "code",
   "execution_count": 275,
   "metadata": {
    "scrolled": true
   },
   "outputs": [
    {
     "data": {
      "image/png": "[encoded data removed]",
      "text/plain": [
       "<Figure size 432x288 with 1 Axes>"
      ]
     },
     "metadata": {
      "needs_background": "light"
     },
     "output_type": "display_data"
    }
   ],
   "source": [
    "# Build a scatter plot for each data type\n",
    "plt.scatter(weather_data[\"Lat\"], weather_data[\"Cloudiness\"], marker=\"o\")\n",
    "\n",
    "# Incorporate the other graph properties\n",
    "plt.title(\"City Latitude vs Cloudiness 04/24/2021\")\n",
    "plt.ylabel(\"Cloudiness %\")\n",
    "plt.xlabel(\"Latitude\")\n",
    "plt.grid(True)\n",
    "\n",
    "# Save the figure\n",
    "plt.savefig(\"Temp_vs_Cloud.png\")\n",
    "\n",
    "# Show plot\n",
    "plt.show()"
   ]
  },
  {
   "cell_type": "code",
   "execution_count": 276,
   "metadata": {},
   "outputs": [],
   "source": [
    "#Analysis - Less of a trend for Cloudiness compared to Temperature vs Latitude"
   ]
  },
  {
   "cell_type": "markdown",
   "metadata": {},
   "source": [
    "## Latitude vs. Wind Speed Plot"
   ]
  },
  {
   "cell_type": "code",
   "execution_count": 277,
   "metadata": {},
   "outputs": [
    {
     "data": {
      "image/png": "[encoded data removed]",
      "text/plain": [
       "<Figure size 432x288 with 1 Axes>"
      ]
     },
     "metadata": {
      "needs_background": "light"
     },
     "output_type": "display_data"
    }
   ],
   "source": [
    "# Build a scatter plot for each data type\n",
    "plt.scatter(weather_data[\"Lat\"], weather_data[\"Wind Speed\"], marker=\"o\")\n",
    "\n",
    "# Incorporate the other graph properties\n",
    "plt.title(\"City Latitude vs Wind Speed 04/24/2021\")\n",
    "plt.ylabel(\"Wind Speed (mph)\")\n",
    "plt.xlabel(\"Latitude\")\n",
    "plt.grid(True)\n",
    "\n",
    "# Save the figure\n",
    "plt.savefig(\"Temp_vs_Wind.png\")\n",
    "\n",
    "# Show plot\n",
    "plt.show()"
   ]
  },
  {
   "cell_type": "code",
   "execution_count": 278,
   "metadata": {},
   "outputs": [],
   "source": [
    "#Analysis - Less of a trend for Wind Speed compared to Temperature vs Latitude"
   ]
  },
  {
   "cell_type": "markdown",
   "metadata": {},
   "source": [
    "## Linear Regression"
   ]
  },
  {
   "cell_type": "code",
   "execution_count": 279,
   "metadata": {},
   "outputs": [
    {
     "data": {
      "text/html": [
       "<div>\n",
       "<style scoped>\n",
       "    .dataframe tbody tr th:only-of-type {\n",
       "        vertical-align: middle;\n",
       "    }\n",
       "\n",
       "    .dataframe tbody tr th {\n",
       "        vertical-align: top;\n",
       "    }\n",
       "\n",
       "    .dataframe thead th {\n",
       "        text-align: right;\n",
       "    }\n",
       "</style>\n",
       "<table border=\"1\" class=\"dataframe\">\n",
       "  <thead>\n",
       "    <tr style=\"text-align: right;\">\n",
       "      <th></th>\n",
       "      <th>City</th>\n",
       "      <th>Lat</th>\n",
       "      <th>Lng</th>\n",
       "      <th>Max Temperature</th>\n",
       "      <th>Humidity</th>\n",
       "      <th>Cloudiness</th>\n",
       "      <th>Wind Speed</th>\n",
       "      <th>Country</th>\n",
       "      <th>Date</th>\n",
       "    </tr>\n",
       "  </thead>\n",
       "  <tbody>\n",
       "    <tr>\n",
       "      <th>1</th>\n",
       "      <td>Paris</td>\n",
       "      <td>48.8534</td>\n",
       "      <td>2.3488</td>\n",
       "      <td>7.72</td>\n",
       "      <td>57</td>\n",
       "      <td>0</td>\n",
       "      <td>4.12</td>\n",
       "      <td>FR</td>\n",
       "      <td>1619235482</td>\n",
       "    </tr>\n",
       "    <tr>\n",
       "      <th>2</th>\n",
       "      <td>London</td>\n",
       "      <td>51.5085</td>\n",
       "      <td>-0.1257</td>\n",
       "      <td>4.63</td>\n",
       "      <td>87</td>\n",
       "      <td>100</td>\n",
       "      <td>2.06</td>\n",
       "      <td>GB</td>\n",
       "      <td>1619234906</td>\n",
       "    </tr>\n",
       "    <tr>\n",
       "      <th>3</th>\n",
       "      <td>Beijing</td>\n",
       "      <td>39.9075</td>\n",
       "      <td>116.3972</td>\n",
       "      <td>21.67</td>\n",
       "      <td>46</td>\n",
       "      <td>0</td>\n",
       "      <td>2.00</td>\n",
       "      <td>CN</td>\n",
       "      <td>1619235693</td>\n",
       "    </tr>\n",
       "    <tr>\n",
       "      <th>4</th>\n",
       "      <td>Mumbai</td>\n",
       "      <td>19.0144</td>\n",
       "      <td>72.8479</td>\n",
       "      <td>29.49</td>\n",
       "      <td>70</td>\n",
       "      <td>20</td>\n",
       "      <td>1.54</td>\n",
       "      <td>IN</td>\n",
       "      <td>1619235590</td>\n",
       "    </tr>\n",
       "    <tr>\n",
       "      <th>5</th>\n",
       "      <td>Manila</td>\n",
       "      <td>14.6042</td>\n",
       "      <td>120.9822</td>\n",
       "      <td>30.82</td>\n",
       "      <td>62</td>\n",
       "      <td>20</td>\n",
       "      <td>3.60</td>\n",
       "      <td>PH</td>\n",
       "      <td>1619235480</td>\n",
       "    </tr>\n",
       "    <tr>\n",
       "      <th>6</th>\n",
       "      <td>New York</td>\n",
       "      <td>40.7143</td>\n",
       "      <td>-74.0060</td>\n",
       "      <td>13.34</td>\n",
       "      <td>33</td>\n",
       "      <td>1</td>\n",
       "      <td>4.12</td>\n",
       "      <td>US</td>\n",
       "      <td>1619235471</td>\n",
       "    </tr>\n",
       "    <tr>\n",
       "      <th>7</th>\n",
       "      <td>Los Angeles</td>\n",
       "      <td>34.0522</td>\n",
       "      <td>-118.2437</td>\n",
       "      <td>13.87</td>\n",
       "      <td>72</td>\n",
       "      <td>20</td>\n",
       "      <td>2.06</td>\n",
       "      <td>US</td>\n",
       "      <td>1619235425</td>\n",
       "    </tr>\n",
       "    <tr>\n",
       "      <th>9</th>\n",
       "      <td>Taipei</td>\n",
       "      <td>25.0478</td>\n",
       "      <td>121.5319</td>\n",
       "      <td>26.67</td>\n",
       "      <td>65</td>\n",
       "      <td>40</td>\n",
       "      <td>7.20</td>\n",
       "      <td>TW</td>\n",
       "      <td>1619235543</td>\n",
       "    </tr>\n",
       "    <tr>\n",
       "      <th>10</th>\n",
       "      <td>Berlin</td>\n",
       "      <td>52.5244</td>\n",
       "      <td>13.4105</td>\n",
       "      <td>4.29</td>\n",
       "      <td>75</td>\n",
       "      <td>0</td>\n",
       "      <td>3.09</td>\n",
       "      <td>DE</td>\n",
       "      <td>1619235639</td>\n",
       "    </tr>\n",
       "    <tr>\n",
       "      <th>16</th>\n",
       "      <td>Istanbul</td>\n",
       "      <td>41.0351</td>\n",
       "      <td>28.9833</td>\n",
       "      <td>13.47</td>\n",
       "      <td>94</td>\n",
       "      <td>0</td>\n",
       "      <td>2.89</td>\n",
       "      <td>TR</td>\n",
       "      <td>1619235516</td>\n",
       "    </tr>\n",
       "    <tr>\n",
       "      <th>17</th>\n",
       "      <td>Cairo</td>\n",
       "      <td>30.0626</td>\n",
       "      <td>31.2497</td>\n",
       "      <td>16.15</td>\n",
       "      <td>88</td>\n",
       "      <td>40</td>\n",
       "      <td>5.66</td>\n",
       "      <td>EG</td>\n",
       "      <td>1619235695</td>\n",
       "    </tr>\n",
       "    <tr>\n",
       "      <th>18</th>\n",
       "      <td>Moscow</td>\n",
       "      <td>55.7522</td>\n",
       "      <td>37.6156</td>\n",
       "      <td>4.68</td>\n",
       "      <td>93</td>\n",
       "      <td>90</td>\n",
       "      <td>2.00</td>\n",
       "      <td>RU</td>\n",
       "      <td>1619235663</td>\n",
       "    </tr>\n",
       "  </tbody>\n",
       "</table>\n",
       "</div>"
      ],
      "text/plain": [
       "           City      Lat       Lng  Max Temperature  Humidity  Cloudiness  \\\n",
       "1         Paris  48.8534    2.3488             7.72        57           0   \n",
       "2        London  51.5085   -0.1257             4.63        87         100   \n",
       "3       Beijing  39.9075  116.3972            21.67        46           0   \n",
       "4        Mumbai  19.0144   72.8479            29.49        70          20   \n",
       "5        Manila  14.6042  120.9822            30.82        62          20   \n",
       "6      New York  40.7143  -74.0060            13.34        33           1   \n",
       "7   Los Angeles  34.0522 -118.2437            13.87        72          20   \n",
       "9        Taipei  25.0478  121.5319            26.67        65          40   \n",
       "10       Berlin  52.5244   13.4105             4.29        75           0   \n",
       "16     Istanbul  41.0351   28.9833            13.47        94           0   \n",
       "17        Cairo  30.0626   31.2497            16.15        88          40   \n",
       "18       Moscow  55.7522   37.6156             4.68        93          90   \n",
       "\n",
       "    Wind Speed Country        Date  \n",
       "1         4.12      FR  1619235482  \n",
       "2         2.06      GB  1619234906  \n",
       "3         2.00      CN  1619235693  \n",
       "4         1.54      IN  1619235590  \n",
       "5         3.60      PH  1619235480  \n",
       "6         4.12      US  1619235471  \n",
       "7         2.06      US  1619235425  \n",
       "9         7.20      TW  1619235543  \n",
       "10        3.09      DE  1619235639  \n",
       "16        2.89      TR  1619235516  \n",
       "17        5.66      EG  1619235695  \n",
       "18        2.00      RU  1619235663  "
      ]
     },
     "execution_count": 279,
     "metadata": {},
     "output_type": "execute_result"
    }
   ],
   "source": [
    "#create a dataframe for cities in Northern Hemisphere\n",
    "weather_data_nh = weather_data.loc[weather_data['Lat'] > 0]\n",
    "weather_data_nh"
   ]
  },
  {
   "cell_type": "code",
   "execution_count": 280,
   "metadata": {},
   "outputs": [
    {
     "data": {
      "text/html": [
       "<div>\n",
       "<style scoped>\n",
       "    .dataframe tbody tr th:only-of-type {\n",
       "        vertical-align: middle;\n",
       "    }\n",
       "\n",
       "    .dataframe tbody tr th {\n",
       "        vertical-align: top;\n",
       "    }\n",
       "\n",
       "    .dataframe thead th {\n",
       "        text-align: right;\n",
       "    }\n",
       "</style>\n",
       "<table border=\"1\" class=\"dataframe\">\n",
       "  <thead>\n",
       "    <tr style=\"text-align: right;\">\n",
       "      <th></th>\n",
       "      <th>City</th>\n",
       "      <th>Lat</th>\n",
       "      <th>Lng</th>\n",
       "      <th>Max Temperature</th>\n",
       "      <th>Humidity</th>\n",
       "      <th>Cloudiness</th>\n",
       "      <th>Wind Speed</th>\n",
       "      <th>Country</th>\n",
       "      <th>Date</th>\n",
       "    </tr>\n",
       "  </thead>\n",
       "  <tbody>\n",
       "    <tr>\n",
       "      <th>0</th>\n",
       "      <td>Lima</td>\n",
       "      <td>-12.0432</td>\n",
       "      <td>-77.0282</td>\n",
       "      <td>17.85</td>\n",
       "      <td>88</td>\n",
       "      <td>75</td>\n",
       "      <td>5.14</td>\n",
       "      <td>PE</td>\n",
       "      <td>1619235673</td>\n",
       "    </tr>\n",
       "    <tr>\n",
       "      <th>8</th>\n",
       "      <td>Jakarta</td>\n",
       "      <td>-6.2146</td>\n",
       "      <td>106.8451</td>\n",
       "      <td>31.11</td>\n",
       "      <td>62</td>\n",
       "      <td>20</td>\n",
       "      <td>1.54</td>\n",
       "      <td>ID</td>\n",
       "      <td>1619235619</td>\n",
       "    </tr>\n",
       "    <tr>\n",
       "      <th>11</th>\n",
       "      <td>Sao Paulo</td>\n",
       "      <td>-23.5475</td>\n",
       "      <td>-46.6361</td>\n",
       "      <td>17.12</td>\n",
       "      <td>77</td>\n",
       "      <td>75</td>\n",
       "      <td>2.06</td>\n",
       "      <td>BR</td>\n",
       "      <td>1619235155</td>\n",
       "    </tr>\n",
       "    <tr>\n",
       "      <th>12</th>\n",
       "      <td>Santiago</td>\n",
       "      <td>-33.4569</td>\n",
       "      <td>-70.6483</td>\n",
       "      <td>13.94</td>\n",
       "      <td>72</td>\n",
       "      <td>75</td>\n",
       "      <td>2.57</td>\n",
       "      <td>CL</td>\n",
       "      <td>1619235694</td>\n",
       "    </tr>\n",
       "    <tr>\n",
       "      <th>13</th>\n",
       "      <td>Buenos Aires</td>\n",
       "      <td>-34.6132</td>\n",
       "      <td>-58.3772</td>\n",
       "      <td>17.62</td>\n",
       "      <td>88</td>\n",
       "      <td>0</td>\n",
       "      <td>3.09</td>\n",
       "      <td>AR</td>\n",
       "      <td>1619235695</td>\n",
       "    </tr>\n",
       "    <tr>\n",
       "      <th>14</th>\n",
       "      <td>Lima</td>\n",
       "      <td>-12.0432</td>\n",
       "      <td>-77.0282</td>\n",
       "      <td>17.85</td>\n",
       "      <td>88</td>\n",
       "      <td>75</td>\n",
       "      <td>5.14</td>\n",
       "      <td>PE</td>\n",
       "      <td>1619235673</td>\n",
       "    </tr>\n",
       "    <tr>\n",
       "      <th>15</th>\n",
       "      <td>Sydney</td>\n",
       "      <td>-33.8679</td>\n",
       "      <td>151.2073</td>\n",
       "      <td>21.25</td>\n",
       "      <td>35</td>\n",
       "      <td>0</td>\n",
       "      <td>4.12</td>\n",
       "      <td>AU</td>\n",
       "      <td>1619235023</td>\n",
       "    </tr>\n",
       "    <tr>\n",
       "      <th>19</th>\n",
       "      <td>Cape Town</td>\n",
       "      <td>-33.9258</td>\n",
       "      <td>18.4232</td>\n",
       "      <td>14.83</td>\n",
       "      <td>82</td>\n",
       "      <td>0</td>\n",
       "      <td>4.63</td>\n",
       "      <td>ZA</td>\n",
       "      <td>1619235691</td>\n",
       "    </tr>\n",
       "  </tbody>\n",
       "</table>\n",
       "</div>"
      ],
      "text/plain": [
       "            City      Lat       Lng  Max Temperature  Humidity  Cloudiness  \\\n",
       "0           Lima -12.0432  -77.0282            17.85        88          75   \n",
       "8        Jakarta  -6.2146  106.8451            31.11        62          20   \n",
       "11     Sao Paulo -23.5475  -46.6361            17.12        77          75   \n",
       "12      Santiago -33.4569  -70.6483            13.94        72          75   \n",
       "13  Buenos Aires -34.6132  -58.3772            17.62        88           0   \n",
       "14          Lima -12.0432  -77.0282            17.85        88          75   \n",
       "15        Sydney -33.8679  151.2073            21.25        35           0   \n",
       "19     Cape Town -33.9258   18.4232            14.83        82           0   \n",
       "\n",
       "    Wind Speed Country        Date  \n",
       "0         5.14      PE  1619235673  \n",
       "8         1.54      ID  1619235619  \n",
       "11        2.06      BR  1619235155  \n",
       "12        2.57      CL  1619235694  \n",
       "13        3.09      AR  1619235695  \n",
       "14        5.14      PE  1619235673  \n",
       "15        4.12      AU  1619235023  \n",
       "19        4.63      ZA  1619235691  "
      ]
     },
     "execution_count": 280,
     "metadata": {},
     "output_type": "execute_result"
    }
   ],
   "source": [
    "#create a dataframe for cities in Southern Hemisphere\n",
    "weather_data_sh = weather_data.loc[weather_data['Lat'] < 0]\n",
    "weather_data_sh"
   ]
  },
  {
   "cell_type": "markdown",
   "metadata": {},
   "source": [
    "####  Northern Hemisphere - Max Temp vs. Latitude Linear Regression"
   ]
  },
  {
   "cell_type": "code",
   "execution_count": 281,
   "metadata": {
    "scrolled": true
   },
   "outputs": [
    {
     "name": "stdout",
     "output_type": "stream",
     "text": [
      "The r-value is: -0.944743024898917\n"
     ]
    },
    {
     "data": {
      "image/png": "[encoded data removed]",
      "text/plain": [
       "<Figure size 432x288 with 1 Axes>"
      ]
     },
     "metadata": {
      "needs_background": "light"
     },
     "output_type": "display_data"
    }
   ],
   "source": [
    "# Calculate the  linear regression model for Temp / Lat in N Hemisphere \n",
    "x_values = weather_data_nh['Lat']\n",
    "y_values = weather_data_nh['Max Temperature']\n",
    "(slope, intercept, rvalue, pvalue, stderr) = linregress(x_values, y_values)\n",
    "regress_values = x_values * slope + intercept\n",
    "line_eq = \"y = \" + str(round(slope,2)) + \"x + \" + str(round(intercept,2))\n",
    "plt.scatter(x_values,y_values)\n",
    "plt.plot(x_values,regress_values,\"r-\")\n",
    "plt.annotate(line_eq,(6,10),fontsize=15,color=\"red\")\n",
    "plt.title('Linear Regression Max Temp vs Latitude in N Hemisphere')\n",
    "plt.xlabel('Latitude')\n",
    "plt.ylabel('Max Temp')\n",
    "plt.annotate(line_eq,(20,15),fontsize=15,color=\"red\")\n",
    "print(f\"The r-value is: {rvalue}\")\n",
    "plt.savefig('tvlnh.png')\n",
    "plt.show()"
   ]
  },
  {
   "cell_type": "code",
   "execution_count": 282,
   "metadata": {},
   "outputs": [],
   "source": [
    "#Analysis - Strong trend for Temperature vs Latitude"
   ]
  },
  {
   "cell_type": "markdown",
   "metadata": {},
   "source": [
    "####  Southern Hemisphere - Max Temp vs. Latitude Linear Regression"
   ]
  },
  {
   "cell_type": "code",
   "execution_count": 283,
   "metadata": {},
   "outputs": [
    {
     "name": "stdout",
     "output_type": "stream",
     "text": [
      "The r-value is: 0.5970931887271709\n"
     ]
    },
    {
     "data": {
      "image/png": "[encoded data removed]",
      "text/plain": [
       "<Figure size 432x288 with 1 Axes>"
      ]
     },
     "metadata": {
      "needs_background": "light"
     },
     "output_type": "display_data"
    }
   ],
   "source": [
    "# Calculate the  linear regression model for Temp / Lat in S Hemisphere \n",
    "x_values = weather_data_sh['Lat']\n",
    "y_values = weather_data_sh['Max Temperature']\n",
    "(slope, intercept, rvalue, pvalue, stderr) = linregress(x_values, y_values)\n",
    "regress_values = x_values * slope + intercept\n",
    "line_eq = \"y = \" + str(round(slope,2)) + \"x + \" + str(round(intercept,2))\n",
    "plt.scatter(x_values,y_values)\n",
    "plt.plot(x_values,regress_values,\"r-\")\n",
    "plt.annotate(line_eq,(6,10),fontsize=15,color=\"red\")\n",
    "plt.title('Linear Regression Max Temp vs Latitude in S Hemisphere')\n",
    "plt.xlabel('Latitude')\n",
    "plt.ylabel('Max Temp')\n",
    "plt.annotate(line_eq,(20,15),fontsize=15,color=\"red\")\n",
    "print(f\"The r-value is: {rvalue}\")\n",
    "plt.savefig('tvlsh.png')\n",
    "plt.show()"
   ]
  },
  {
   "cell_type": "code",
   "execution_count": 284,
   "metadata": {},
   "outputs": [],
   "source": [
    "#Analysis - Strong trend for Temperature vs Latitude"
   ]
  },
  {
   "cell_type": "markdown",
   "metadata": {},
   "source": [
    "####  Northern Hemisphere - Humidity (%) vs. Latitude Linear Regression"
   ]
  },
  {
   "cell_type": "code",
   "execution_count": 285,
   "metadata": {},
   "outputs": [
    {
     "name": "stdout",
     "output_type": "stream",
     "text": [
      "The r-value is: 0.21267728096492522\n"
     ]
    },
    {
     "data": {
      "image/png": "[encoded data removed]",
      "text/plain": [
       "<Figure size 432x288 with 1 Axes>"
      ]
     },
     "metadata": {
      "needs_background": "light"
     },
     "output_type": "display_data"
    }
   ],
   "source": [
    "# Calculate the  linear regression model for Humidity / Lat in N Hemisphere \n",
    "x_values = weather_data_nh['Lat']\n",
    "y_values = weather_data_nh['Humidity']\n",
    "(slope, intercept, rvalue, pvalue, stderr) = linregress(x_values, y_values)\n",
    "regress_values = x_values * slope + intercept\n",
    "line_eq = \"y = \" + str(round(slope,2)) + \"x + \" + str(round(intercept,2))\n",
    "plt.scatter(x_values,y_values)\n",
    "plt.plot(x_values,regress_values,\"r-\")\n",
    "plt.annotate(line_eq,(6,10),fontsize=15,color=\"red\")\n",
    "plt.title('Linear Regression Humidity vs Latitude in N Hemisphere')\n",
    "plt.xlabel('Latitude')\n",
    "plt.ylabel('Humidity')\n",
    "plt.annotate(line_eq,(20,15),fontsize=15,color=\"red\")\n",
    "print(f\"The r-value is: {rvalue}\")\n",
    "plt.savefig('hvlnh.png')\n",
    "plt.show()"
   ]
  },
  {
   "cell_type": "code",
   "execution_count": 286,
   "metadata": {},
   "outputs": [],
   "source": [
    "#Analysis - No trend for Humidity vs Latitude"
   ]
  },
  {
   "cell_type": "markdown",
   "metadata": {},
   "source": [
    "####  Southern Hemisphere - Humidity (%) vs. Latitude Linear Regression"
   ]
  },
  {
   "cell_type": "code",
   "execution_count": 287,
   "metadata": {},
   "outputs": [
    {
     "name": "stdout",
     "output_type": "stream",
     "text": [
      "The r-value is: 0.19557217731616303\n"
     ]
    },
    {
     "data": {
      "image/png": "[encoded data removed]",
      "text/plain": [
       "<Figure size 432x288 with 1 Axes>"
      ]
     },
     "metadata": {
      "needs_background": "light"
     },
     "output_type": "display_data"
    }
   ],
   "source": [
    "# Calculate the  linear regression model for Humidity / Lat in S Hemisphere \n",
    "x_values = weather_data_sh['Lat']\n",
    "y_values = weather_data_sh['Humidity']\n",
    "(slope, intercept, rvalue, pvalue, stderr) = linregress(x_values, y_values)\n",
    "regress_values = x_values * slope + intercept\n",
    "line_eq = \"y = \" + str(round(slope,2)) + \"x + \" + str(round(intercept,2))\n",
    "plt.scatter(x_values,y_values)\n",
    "plt.plot(x_values,regress_values,\"r-\")\n",
    "plt.annotate(line_eq,(6,10),fontsize=15,color=\"red\")\n",
    "plt.title('Linear Regression Humidity vs Latitude in S Hemisphere')\n",
    "plt.xlabel('Latitude')\n",
    "plt.ylabel('Humidity')\n",
    "plt.annotate(line_eq,(20,15),fontsize=15,color=\"red\")\n",
    "print(f\"The r-value is: {rvalue}\")\n",
    "plt.savefig('hvlsh.png')\n",
    "plt.show()"
   ]
  },
  {
   "cell_type": "code",
   "execution_count": 288,
   "metadata": {},
   "outputs": [],
   "source": [
    "#Analysis - Small trend for Humidity vs Latitude"
   ]
  },
  {
   "cell_type": "markdown",
   "metadata": {},
   "source": [
    "Northern Hemisphere - Cloudiness (%) vs. Latitude Linear Regression\n"
   ]
  },
  {
   "cell_type": "code",
   "execution_count": 289,
   "metadata": {},
   "outputs": [
    {
     "name": "stdout",
     "output_type": "stream",
     "text": [
      "The r-value is: 0.245533940593209\n"
     ]
    },
    {
     "data": {
      "image/png": "[encoded data removed]",
      "text/plain": [
       "<Figure size 432x288 with 1 Axes>"
      ]
     },
     "metadata": {
      "needs_background": "light"
     },
     "output_type": "display_data"
    }
   ],
   "source": [
    "# Calculate the  linear regression model for Cloudiness / Lat in N Hemisphere \n",
    "x_values = weather_data_nh['Lat']\n",
    "y_values = weather_data_nh['Cloudiness']\n",
    "(slope, intercept, rvalue, pvalue, stderr) = linregress(x_values, y_values)\n",
    "regress_values = x_values * slope + intercept\n",
    "line_eq = \"y = \" + str(round(slope,2)) + \"x + \" + str(round(intercept,2))\n",
    "plt.scatter(x_values,y_values)\n",
    "plt.plot(x_values,regress_values,\"r-\")\n",
    "plt.annotate(line_eq,(6,10),fontsize=15,color=\"red\")\n",
    "plt.title('Linear Regression Cloudiness vs Latitude in N Hemisphere')\n",
    "plt.xlabel('Latitude')\n",
    "plt.ylabel('Cloudiness')\n",
    "plt.annotate(line_eq,(20,15),fontsize=15,color=\"red\")\n",
    "print(f\"The r-value is: {rvalue}\")\n",
    "plt.savefig('cvlnh.png')\n",
    "plt.show()"
   ]
  },
  {
   "cell_type": "code",
   "execution_count": 290,
   "metadata": {},
   "outputs": [],
   "source": [
    "#Analysis - Small trend for Cloudiness vs Latitude"
   ]
  },
  {
   "cell_type": "markdown",
   "metadata": {},
   "source": [
    "####  Southern Hemisphere - Cloudiness (%) vs. Latitude Linear Regression"
   ]
  },
  {
   "cell_type": "code",
   "execution_count": 291,
   "metadata": {},
   "outputs": [
    {
     "name": "stdout",
     "output_type": "stream",
     "text": [
      "The r-value is: 0.43503040653149866\n"
     ]
    },
    {
     "data": {
      "image/png": "[encoded data removed]",
      "text/plain": [
       "<Figure size 432x288 with 1 Axes>"
      ]
     },
     "metadata": {
      "needs_background": "light"
     },
     "output_type": "display_data"
    }
   ],
   "source": [
    "# Calculate the  linear regression model for Cloudiness / Lat in S Hemisphere \n",
    "x_values = weather_data_sh['Lat']\n",
    "y_values = weather_data_sh['Cloudiness']\n",
    "(slope, intercept, rvalue, pvalue, stderr) = linregress(x_values, y_values)\n",
    "regress_values = x_values * slope + intercept\n",
    "line_eq = \"y = \" + str(round(slope,2)) + \"x + \" + str(round(intercept,2))\n",
    "plt.scatter(x_values,y_values)\n",
    "plt.plot(x_values,regress_values,\"r-\")\n",
    "plt.annotate(line_eq,(6,10),fontsize=15,color=\"red\")\n",
    "plt.title('Linear Regression Cloudiness vs Latitude in S Hemisphere')\n",
    "plt.xlabel('Latitude')\n",
    "plt.ylabel('Cloudiness')\n",
    "plt.annotate(line_eq,(20,15),fontsize=15,color=\"red\")\n",
    "print(f\"The r-value is: {rvalue}\")\n",
    "plt.savefig('cvlsh.png')\n",
    "plt.show()"
   ]
  },
  {
   "cell_type": "code",
   "execution_count": 292,
   "metadata": {},
   "outputs": [],
   "source": [
    "#Analysis - Trend for Humidity vs Latitude"
   ]
  },
  {
   "cell_type": "markdown",
   "metadata": {},
   "source": [
    "####  Northern Hemisphere - Wind Speed (mph) vs. Latitude Linear Regression"
   ]
  },
  {
   "cell_type": "code",
   "execution_count": 293,
   "metadata": {},
   "outputs": [
    {
     "name": "stdout",
     "output_type": "stream",
     "text": [
      "The r-value is: -0.289849055760251\n"
     ]
    },
    {
     "data": {
      "image/png": "[encoded data removed]",
      "text/plain": [
       "<Figure size 432x288 with 1 Axes>"
      ]
     },
     "metadata": {
      "needs_background": "light"
     },
     "output_type": "display_data"
    }
   ],
   "source": [
    "# Calculate the  linear regression model for Wind Speed / Lat in N Hemisphere \n",
    "x_values = weather_data_nh['Lat']\n",
    "y_values = weather_data_nh['Wind Speed']\n",
    "(slope, intercept, rvalue, pvalue, stderr) = linregress(x_values, y_values)\n",
    "regress_values = x_values * slope + intercept\n",
    "line_eq = \"y = \" + str(round(slope,2)) + \"x + \" + str(round(intercept,2))\n",
    "plt.scatter(x_values,y_values)\n",
    "plt.plot(x_values,regress_values,\"r-\")\n",
    "plt.annotate(line_eq,(6,10),fontsize=15,color=\"red\")\n",
    "plt.title('Linear Regression Wind Speed vs Latitude in N Hemisphere')\n",
    "plt.xlabel('Latitude')\n",
    "plt.ylabel('Wind Speed')\n",
    "plt.annotate(line_eq,(20,15),fontsize=15,color=\"red\")\n",
    "print(f\"The r-value is: {rvalue}\")\n",
    "plt.savefig('wvlnh.png')\n",
    "plt.show()"
   ]
  },
  {
   "cell_type": "code",
   "execution_count": 294,
   "metadata": {},
   "outputs": [],
   "source": [
    "#Analysis - Small trend for Wind Speed vs Latitude"
   ]
  },
  {
   "cell_type": "markdown",
   "metadata": {},
   "source": [
    "####  Southern Hemisphere - Wind Speed (mph) vs. Latitude Linear Regression"
   ]
  },
  {
   "cell_type": "code",
   "execution_count": 295,
   "metadata": {},
   "outputs": [
    {
     "name": "stdout",
     "output_type": "stream",
     "text": [
      "The r-value is: -0.004766975988039953\n"
     ]
    },
    {
     "data": {
      "image/png": "[encoded data removed]",
      "text/plain": [
       "<Figure size 432x288 with 1 Axes>"
      ]
     },
     "metadata": {
      "needs_background": "light"
     },
     "output_type": "display_data"
    }
   ],
   "source": [
    "# Calculate the  linear regression model for Wind Speed / Lat in S Hemisphere \n",
    "x_values = weather_data_sh['Lat']\n",
    "y_values = weather_data_sh['Wind Speed']\n",
    "(slope, intercept, rvalue, pvalue, stderr) = linregress(x_values, y_values)\n",
    "regress_values = x_values * slope + intercept\n",
    "line_eq = \"y = \" + str(round(slope,2)) + \"x + \" + str(round(intercept,2))\n",
    "plt.scatter(x_values,y_values)\n",
    "plt.plot(x_values,regress_values,\"r-\")\n",
    "plt.annotate(line_eq,(6,10),fontsize=15,color=\"red\")\n",
    "plt.title('Linear Regression Wind Speed vs Latitude in N Hemisphere')\n",
    "plt.xlabel('Latitude')\n",
    "plt.ylabel('Wind Speed')\n",
    "plt.annotate(line_eq,(20,15),fontsize=15,color=\"red\")\n",
    "print(f\"The r-value is: {rvalue}\")\n",
    "plt.savefig('wvlsh.png')\n",
    "plt.show()"
   ]
  },
  {
   "cell_type": "code",
   "execution_count": 259,
   "metadata": {},
   "outputs": [],
   "source": [
    "#Analysis - No trend for Wind Speed vs Latitude"
   ]
  }
 ],
 "metadata": {
  "anaconda-cloud": {},
  "kernel_info": {
   "name": "python3"
  },
  "kernelspec": {
   "display_name": "Python [conda env:PythonData] *",
   "language": "python",
   "name": "conda-env-PythonData-py"
  },
  "language_info": {
   "codemirror_mode": {
    "name": "ipython",
    "version": 3
   },
   "file_extension": ".py",
   "mimetype": "text/x-python",
   "name": "python",
   "nbconvert_exporter": "python",
   "pygments_lexer": "ipython3",
   "version": "3.6.10"
  },
  "latex_envs": {
   "LaTeX_envs_menu_present": true,
   "autoclose": false,
   "autocomplete": true,
   "bibliofile": "biblio.bib",
   "cite_by": "apalike",
   "current_citInitial": 1,
   "eqLabelWithNumbers": true,
   "eqNumInitial": 1,
   "hotkeys": {
    "equation": "Ctrl-E",
    "itemize": "Ctrl-I"
   },
   "labels_anchors": false,
   "latex_user_defs": false,
   "report_style_numbering": false,
   "user_envs_cfg": false
  },
  "nteract": {
   "version": "0.12.3"
  }
 },
 "nbformat": 4,
 "nbformat_minor": 2
}
